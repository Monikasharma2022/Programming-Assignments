{
 "cells": [
  {
   "cell_type": "code",
   "execution_count": null,
   "id": "40a5e418",
   "metadata": {},
   "outputs": [],
   "source": [
    "# Question1\n",
    "# Create a function that takes three integer arguments (a, b, c) and returns the amount of\n",
    "# integers which are of equal value.\n",
    "\n",
    "# Question2\n",
    "# Write a function that converts a dictionary into a list of keys-values tuples.\n",
    "# Notes\n",
    "# Return the elements in the list in alphabetical order.\n",
    "\n",
    "# Question3\n",
    "# Write a function that creates a dictionary with each (key, value) pair being the (lower case,\n",
    "# upper case) versions of a letter, respectively.\n",
    "# Notes\n",
    "# All of the letters in the input list will always be lowercase.\n",
    "\n",
    "# Question4\n",
    "# Write a function, that replaces all vowels in a string with a specified vowel.\n",
    "# Examples\n",
    "# Notes\n",
    "# All words will be lowercase. Y is not considered a vowel.\n",
    "\n",
    "# Question5\n",
    "# Create a function that takes a string as input and capitalizes a letter if its ASCII code is even\n",
    "# and returns its lower case version if its ASCII code is odd."
   ]
  },
  {
   "cell_type": "code",
   "execution_count": 1,
   "id": "62538587",
   "metadata": {},
   "outputs": [
    {
     "name": "stdout",
     "output_type": "stream",
     "text": [
      "2\n",
      "3\n",
      "0\n"
     ]
    }
   ],
   "source": [
    "def equal(a, b, c):\n",
    "    if a == b == c:\n",
    "        return 3\n",
    "    elif a == b or a == c or b == c:\n",
    "        return 2\n",
    "    else:\n",
    "        return 0\n",
    "\n",
    "# Test cases\n",
    "print(equal(3, 4, 3))  # ➞ 2\n",
    "print(equal(1, 1, 1))  # ➞ 3\n",
    "print(equal(3, 4, 1))  # ➞ 0"
   ]
  },
  {
   "cell_type": "code",
   "execution_count": 2,
   "id": "49660a56",
   "metadata": {},
   "outputs": [
    {
     "name": "stdout",
     "output_type": "stream",
     "text": [
      "[('B', 2), ('C', 3), ('D', 1)]\n",
      "[('dislikes', 3), ('followers', 10), ('likes', 2)]\n"
     ]
    }
   ],
   "source": [
    "def dict_to_list(dictionary):\n",
    "    # Convert dictionary to a list of tuples (key, value)\n",
    "    tuples_list = list(dictionary.items())\n",
    "    # Sort the list of tuples alphabetically based on keys\n",
    "    sorted_tuples = sorted(tuples_list)\n",
    "    return sorted_tuples\n",
    "\n",
    "# Test cases\n",
    "print(dict_to_list({\"D\": 1, \"B\": 2, \"C\": 3}))  # ➞ [(\"B\", 2), (\"C\", 3), (\"D\", 1)]\n",
    "print(dict_to_list({\"likes\": 2, \"dislikes\": 3, \"followers\": 10}))  # ➞ [(\"dislikes\", 3), (\"followers\", 10), (\"likes\", 2)]"
   ]
  },
  {
   "cell_type": "code",
   "execution_count": 5,
   "id": "acfa0759",
   "metadata": {},
   "outputs": [
    {
     "data": {
      "text/plain": [
       "dict_items([('D', 1), ('B', 2), ('C', 3)])"
      ]
     },
     "execution_count": 5,
     "metadata": {},
     "output_type": "execute_result"
    }
   ],
   "source": [
    "dict={\"D\": 1, \"B\": 2, \"C\": 3}\n",
    "dict.items()"
   ]
  },
  {
   "cell_type": "code",
   "execution_count": 6,
   "id": "f01b565f",
   "metadata": {},
   "outputs": [
    {
     "name": "stdout",
     "output_type": "stream",
     "text": [
      "{'p': 'P', 's': 'S'}\n",
      "{'a': 'A', 'b': 'B', 'c': 'C'}\n",
      "{'a': 'A', 'v': 'V', 'y': 'Y', 'z': 'Z'}\n"
     ]
    }
   ],
   "source": [
    "def mapping(letters):\n",
    "    # Create an empty dictionary to store the mapping\n",
    "    mapped_dict = {}\n",
    "    # Iterate through the list of letters\n",
    "    for letter in letters:\n",
    "        # Add a key-value pair to the dictionary with the lowercase letter as key and its uppercase version as value\n",
    "        mapped_dict[letter] = letter.upper()\n",
    "    return mapped_dict\n",
    "\n",
    "# Test cases\n",
    "print(mapping([\"p\", \"s\"]))         # ➞ {\"p\": \"P\", \"s\": \"S\"}\n",
    "print(mapping([\"a\", \"b\", \"c\"]))    # ➞ {\"a\": \"A\", \"b\": \"B\", \"c\": \"C\"}\n",
    "print(mapping([\"a\", \"v\", \"y\", \"z\"]))  # ➞ {\"a\": \"A\", \"v\": \"V\", \"y\": \"Y\", \"z\": \"Z\"}"
   ]
  },
  {
   "cell_type": "code",
   "execution_count": 7,
   "id": "70cb7004",
   "metadata": {},
   "outputs": [
    {
     "name": "stdout",
     "output_type": "stream",
     "text": [
      "upplus und bununus\n",
      "chooso cossorolo\n",
      "steffed jelepene peppers\n"
     ]
    }
   ],
   "source": [
    "def vow_replace(string, vowel):\n",
    "    # Define the set of vowels\n",
    "    vowels = {'a', 'e', 'i', 'o', 'u'}\n",
    "    # Initialize an empty string to store the result\n",
    "    result = \"\"\n",
    "    # Iterate through each character in the input string\n",
    "    for char in string:\n",
    "        # Check if the character is a vowel\n",
    "        if char in vowels:\n",
    "            # If it's a vowel, replace it with the specified vowel\n",
    "            result += vowel\n",
    "        else:\n",
    "            # If it's not a vowel, keep the character unchanged\n",
    "            result += char\n",
    "    return result\n",
    "\n",
    "# Test cases\n",
    "print(vow_replace(\"apples and bananas\", \"u\"))               # ➞ \"upplus und bununus\"\n",
    "print(vow_replace(\"cheese casserole\", \"o\"))                 # ➞ \"chooso cossorolo\"\n",
    "print(vow_replace(\"stuffed jalapeno poppers\", \"e\"))         # ➞ \"steffed jelepene peppers\""
   ]
  },
  {
   "cell_type": "code",
   "execution_count": 8,
   "id": "7648bcf4",
   "metadata": {},
   "outputs": [
    {
     "name": "stdout",
     "output_type": "stream",
     "text": [
      "To Be oR NoT To Be!\n",
      "THe LiTTLe meRmaiD\n",
      "oH wHaT a BeauTiFuL moRNiNg.\n"
     ]
    }
   ],
   "source": [
    "def ascii_capitalize(string):\n",
    "    # Initialize an empty string to store the result\n",
    "    result = \"\"\n",
    "    # Iterate through each character in the input string\n",
    "    for char in string:\n",
    "        # Check if the ASCII code of the character is even\n",
    "        if ord(char) % 2 == 0:\n",
    "            # If it's even, capitalize the character\n",
    "            result += char.upper()\n",
    "        else:\n",
    "            # If it's odd, lowercase the character\n",
    "            result += char.lower()\n",
    "    return result\n",
    "\n",
    "# Test cases\n",
    "print(ascii_capitalize(\"to be or not to be!\"))               # ➞ \"To Be oR NoT To Be!\"\n",
    "print(ascii_capitalize(\"THE LITTLE MERMAID\"))                # ➞ \"THe LiTTLe meRmaiD\"\n",
    "print(ascii_capitalize(\"Oh what a beautiful morning.\"))      # ➞ \"oH wHaT a BeauTiFuL moRNiNg.\""
   ]
  },
  {
   "cell_type": "code",
   "execution_count": null,
   "id": "b186c131",
   "metadata": {},
   "outputs": [],
   "source": []
  }
 ],
 "metadata": {
  "kernelspec": {
   "display_name": "Python 3 (ipykernel)",
   "language": "python",
   "name": "python3"
  },
  "language_info": {
   "codemirror_mode": {
    "name": "ipython",
    "version": 3
   },
   "file_extension": ".py",
   "mimetype": "text/x-python",
   "name": "python",
   "nbconvert_exporter": "python",
   "pygments_lexer": "ipython3",
   "version": "3.8.10"
  }
 },
 "nbformat": 4,
 "nbformat_minor": 5
}
