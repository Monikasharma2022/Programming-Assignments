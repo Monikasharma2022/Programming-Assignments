{
 "cells": [
  {
   "cell_type": "code",
   "execution_count": null,
   "id": "87f34300",
   "metadata": {},
   "outputs": [],
   "source": [
    "# Question1\n",
    "# Create a function that takes three parameters where:\n",
    "#  x is the start of the range (inclusive).\n",
    "#  y is the end of the range (inclusive).\n",
    "#  n is the divisor to be checked against.\n",
    "# Return an ordered list with numbers in the range that are divisible by the third parameter n.\n",
    "# Return an empty list if there are no numbers that are divisible by n.\n",
    "\n",
    "# Question2\n",
    "# Create a function that takes in two lists and returns True if the second list follows the first list\n",
    "# by one element, and False otherwise. In other words, determine if the second list is the first\n",
    "# list shifted to the right by 1.\n",
    "\n",
    "# Question3\n",
    "# A group of friends have decided to start a secret society. The name will be the first letter of\n",
    "# each of their names, sorted in alphabetical order.\n",
    "# Create a function that takes in a list of names and returns the name of the secret society.\n",
    "\n",
    "# Question4\n",
    "# An isogram is a word that has no duplicate letters. Create a function that takes a string and\n",
    "# returns either True or False depending on whether or not it&#39;s an &quot;isogram&quot;.\n",
    "\n",
    "# Question5\n",
    "# Create a function that takes a string and returns True or False, depending on whether the\n",
    "# characters are in order or not."
   ]
  },
  {
   "cell_type": "code",
   "execution_count": 1,
   "id": "655254fe",
   "metadata": {},
   "outputs": [
    {
     "name": "stdout",
     "output_type": "stream",
     "text": [
      "[3, 6, 9]\n",
      "[8]\n",
      "[]\n"
     ]
    }
   ],
   "source": [
    "def list_operation(x, y, n):\n",
    "    return [num for num in range(x, y + 1) if num % n == 0]\n",
    "\n",
    "# Test cases\n",
    "print(list_operation(1, 10, 3))  # ➞ [3, 6, 9]\n",
    "print(list_operation(7, 9, 2))    # ➞ [8]\n",
    "print(list_operation(15, 20, 7))  # ➞ []"
   ]
  },
  {
   "cell_type": "code",
   "execution_count": 2,
   "id": "6f7af184",
   "metadata": {},
   "outputs": [
    {
     "name": "stdout",
     "output_type": "stream",
     "text": [
      "True\n",
      "False\n",
      "True\n",
      "False\n"
     ]
    }
   ],
   "source": [
    "def simon_says(lst1, lst2):\n",
    "    return lst1[:-1] == lst2[1:]\n",
    "\n",
    "# Test cases\n",
    "print(simon_says([1, 2], [5, 1]))             # ➞ True\n",
    "print(simon_says([1, 2], [5, 5]))             # ➞ False\n",
    "print(simon_says([1, 2, 3, 4, 5], [0, 1, 2, 3, 4]))  # ➞ True\n",
    "print(simon_says([1, 2, 3, 4, 5], [5, 5, 1, 2, 3]))  # ➞ False"
   ]
  },
  {
   "cell_type": "code",
   "execution_count": 3,
   "id": "c5452473",
   "metadata": {},
   "outputs": [
    {
     "name": "stdout",
     "output_type": "stream",
     "text": [
      "AMS\n",
      "CHLN\n",
      "CJMPRR\n"
     ]
    }
   ],
   "source": [
    "def society_name(names):\n",
    "    return ''.join(sorted(name[0] for name in names))\n",
    "\n",
    "# Test cases\n",
    "print(society_name([\"Adam\", \"Sarah\", \"Malcolm\"]))  # ➞ \"AMS\"\n",
    "print(society_name([\"Harry\", \"Newt\", \"Luna\", \"Cho\"]))  # ➞ \"CHLN\"\n",
    "print(society_name([\"Phoebe\", \"Chandler\", \"Rachel\", \"Ross\", \"Monica\", \"Joey\"]))  # ➞ \"CJMPRR\""
   ]
  },
  {
   "cell_type": "code",
   "execution_count": 4,
   "id": "2b272d82",
   "metadata": {},
   "outputs": [
    {
     "name": "stdout",
     "output_type": "stream",
     "text": [
      "True\n",
      "False\n",
      "False\n"
     ]
    }
   ],
   "source": [
    "def is_isogram(string):\n",
    "    # Convert the string to lowercase to make it case insensitive\n",
    "    string = string.lower()\n",
    "    # Create a set of characters in the string\n",
    "    characters = set(string)\n",
    "    # Check if the number of characters in the set is equal to the length of the string\n",
    "    return len(characters) == len(string)\n",
    "\n",
    "# Test cases\n",
    "print(is_isogram(\"Algorism\"))    # ➞ True\n",
    "print(is_isogram(\"PasSword\"))    # ➞ False\n",
    "print(is_isogram(\"Consecutive\")) # ➞ False"
   ]
  },
  {
   "cell_type": "code",
   "execution_count": 5,
   "id": "d2b33c07",
   "metadata": {},
   "outputs": [
    {
     "name": "stdout",
     "output_type": "stream",
     "text": [
      "True\n",
      "False\n",
      "True\n",
      "True\n"
     ]
    }
   ],
   "source": [
    "def is_in_order(s):\n",
    "    # Check if the sorted version of the string is equal to the original string\n",
    "    return s == ''.join(sorted(s))\n",
    "\n",
    "# Test cases\n",
    "print(is_in_order(\"abc\"))      # ➞ True\n",
    "print(is_in_order(\"edabit\"))   # ➞ False\n",
    "print(is_in_order(\"123\"))      # ➞ True\n",
    "print(is_in_order(\"xyzz\"))     # ➞ True"
   ]
  },
  {
   "cell_type": "code",
   "execution_count": null,
   "id": "c51c5933",
   "metadata": {},
   "outputs": [],
   "source": []
  }
 ],
 "metadata": {
  "kernelspec": {
   "display_name": "Python 3 (ipykernel)",
   "language": "python",
   "name": "python3"
  },
  "language_info": {
   "codemirror_mode": {
    "name": "ipython",
    "version": 3
   },
   "file_extension": ".py",
   "mimetype": "text/x-python",
   "name": "python",
   "nbconvert_exporter": "python",
   "pygments_lexer": "ipython3",
   "version": "3.8.10"
  }
 },
 "nbformat": 4,
 "nbformat_minor": 5
}
