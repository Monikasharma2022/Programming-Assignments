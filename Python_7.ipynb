{
 "cells": [
  {
   "cell_type": "code",
   "execution_count": null,
   "id": "af14bf08",
   "metadata": {},
   "outputs": [],
   "source": [
    "# 1. Write a Python Program to find sum of array?\n",
    "# 2. Write a Python Program to find largest element in an array?\n",
    "# 3. Write a Python Program for array rotation?\n",
    "# 4. Write a Python Program to Split the array and add the first part to the end?\n",
    "# 5. Write a Python Program to check if given array is Monotonic?"
   ]
  },
  {
   "cell_type": "code",
   "execution_count": 1,
   "id": "4b130356",
   "metadata": {},
   "outputs": [
    {
     "name": "stdout",
     "output_type": "stream",
     "text": [
      "Enter the elements of the array separated by space: 1 2 3\n",
      "Sum of the array is: 6\n"
     ]
    }
   ],
   "source": [
    "def array_sum(arr):\n",
    "    return sum(arr)\n",
    "\n",
    "# Input\n",
    "array = [int(x) for x in input(\"Enter the elements of the array separated by space: \").split()]\n",
    "\n",
    "# Calculate sum of array\n",
    "result = array_sum(array)\n",
    "\n",
    "# Output\n",
    "print(\"Sum of the array is:\", result)\n"
   ]
  },
  {
   "cell_type": "code",
   "execution_count": 2,
   "id": "62e1ef38",
   "metadata": {},
   "outputs": [
    {
     "name": "stdout",
     "output_type": "stream",
     "text": [
      "Enter the elements of the array separated by space: 1 2 4 56\n",
      "Largest element in the array is: 56\n"
     ]
    }
   ],
   "source": [
    "def find_largest_element(arr):\n",
    "    if not arr:\n",
    "        return \"Array is empty\"\n",
    "    else:\n",
    "        return max(arr)\n",
    "\n",
    "# Input\n",
    "array = [int(x) for x in input(\"Enter the elements of the array separated by space: \").split()]\n",
    "\n",
    "# Find largest element in the array\n",
    "largest = find_largest_element(array)\n",
    "\n",
    "# Output\n",
    "print(\"Largest element in the array is:\", largest)\n"
   ]
  },
  {
   "cell_type": "code",
   "execution_count": 3,
   "id": "1497d04f",
   "metadata": {},
   "outputs": [
    {
     "name": "stdout",
     "output_type": "stream",
     "text": [
      "Enter the elements of the array separated by space: 1 2 3 4 5 6\n",
      "Enter the number of positions to rotate: 4\n",
      "Original array: [1, 2, 3, 4, 5, 6]\n",
      "Array after rotation: [5, 6, 1, 2, 3, 4]\n"
     ]
    }
   ],
   "source": [
    "def rotate_array(arr, k):\n",
    "    n = len(arr)\n",
    "    k = k % n  # To handle cases where k is greater than the length of the array\n",
    "    return arr[k:] + arr[:k]\n",
    "\n",
    "# Input\n",
    "array = [int(x) for x in input(\"Enter the elements of the array separated by space: \").split()]\n",
    "rotation_count = int(input(\"Enter the number of positions to rotate: \"))\n",
    "\n",
    "# Perform array rotation\n",
    "rotated_array = rotate_array(array, rotation_count)\n",
    "\n",
    "# Output\n",
    "print(\"Original array:\", array)\n",
    "print(\"Array after rotation:\", rotated_array)"
   ]
  },
  {
   "cell_type": "code",
   "execution_count": 4,
   "id": "2d0d38ed",
   "metadata": {},
   "outputs": [
    {
     "name": "stdout",
     "output_type": "stream",
     "text": [
      "Enter the elements of the array separated by space: 1 2 3 4 5 6\n",
      "Enter the index at which to split the array: 3\n",
      "Array after splitting and adding the first part to the end: [5, 6, 1, 2, 3, 4]\n"
     ]
    }
   ],
   "source": [
    "def split_and_add(arr, split_index):\n",
    "    if split_index < 0 or split_index >= len(arr):\n",
    "        return \"Invalid split index\"\n",
    "    else:\n",
    "        return arr[split_index+1:] + arr[:split_index+1]\n",
    "\n",
    "# Input\n",
    "array = [int(x) for x in input(\"Enter the elements of the array separated by space: \").split()]\n",
    "split_index = int(input(\"Enter the index at which to split the array: \"))\n",
    "\n",
    "# Perform split and add operation\n",
    "result = split_and_add(array, split_index)\n",
    "\n",
    "# Output\n",
    "print(\"Array after splitting and adding the first part to the end:\", result)"
   ]
  },
  {
   "cell_type": "code",
   "execution_count": 7,
   "id": "9829e405",
   "metadata": {},
   "outputs": [
    {
     "name": "stdout",
     "output_type": "stream",
     "text": [
      "Enter the elements of the array separated by space: 1 2 3 4 5 7 6\n",
      "The given array is not monotonic.\n"
     ]
    }
   ],
   "source": [
    "def is_monotonic(arr):\n",
    "    increasing = decreasing = True\n",
    "    \n",
    "    for i in range(1, len(arr)):\n",
    "        if arr[i] < arr[i - 1]:\n",
    "            increasing = False\n",
    "        if arr[i] > arr[i - 1]:\n",
    "            decreasing = False\n",
    "            \n",
    "    return increasing or decreasing\n",
    "\n",
    "# Input\n",
    "array = [int(x) for x in input(\"Enter the elements of the array separated by space: \").split()]\n",
    "\n",
    "# Check if array is monotonic\n",
    "result = is_monotonic(array)\n",
    "\n",
    "# Output\n",
    "if result:\n",
    "    print(\"The given array is monotonic.\")\n",
    "else:\n",
    "    print(\"The given array is not monotonic.\")\n"
   ]
  },
  {
   "cell_type": "code",
   "execution_count": null,
   "id": "aab898c7",
   "metadata": {},
   "outputs": [],
   "source": []
  },
  {
   "cell_type": "code",
   "execution_count": null,
   "id": "5d795355",
   "metadata": {},
   "outputs": [],
   "source": []
  },
  {
   "cell_type": "code",
   "execution_count": null,
   "id": "5260ef18",
   "metadata": {},
   "outputs": [],
   "source": []
  }
 ],
 "metadata": {
  "kernelspec": {
   "display_name": "Python 3 (ipykernel)",
   "language": "python",
   "name": "python3"
  },
  "language_info": {
   "codemirror_mode": {
    "name": "ipython",
    "version": 3
   },
   "file_extension": ".py",
   "mimetype": "text/x-python",
   "name": "python",
   "nbconvert_exporter": "python",
   "pygments_lexer": "ipython3",
   "version": "3.8.10"
  }
 },
 "nbformat": 4,
 "nbformat_minor": 5
}
