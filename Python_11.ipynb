{
 "cells": [
  {
   "cell_type": "code",
   "execution_count": 3,
   "id": "98b4a4da",
   "metadata": {},
   "outputs": [],
   "source": [
    "# 1. Write a Python program to find words which are greater than given length k?\n",
    "# 2. Write a Python program for removing i-th character from a string?\n",
    "# 3. Write a Python program to split and join a string?\n",
    "# 4. Write a Python to check if a given string is binary string or not?\n",
    "# 5. Write a Python program to find uncommon words from two Strings?\n",
    "# 6. Write a Python to find all duplicate characters in string?\n",
    "# 7. Write a Python Program to check if a string contains any special character?"
   ]
  },
  {
   "cell_type": "code",
   "execution_count": 1,
   "id": "42258f21",
   "metadata": {},
   "outputs": [
    {
     "name": "stdout",
     "output_type": "stream",
     "text": [
      "Words greater than length 5: ['banana', 'orange']\n"
     ]
    }
   ],
   "source": [
    "def find_words_greater_than_length(lst, k):\n",
    "    \"\"\"\n",
    "    Function to find words in a list that are greater than a given length k.\n",
    "    \n",
    "    Parameters:\n",
    "        lst (list): The input list of words.\n",
    "        k (int): The minimum length of words to be considered.\n",
    "        \n",
    "    Returns:\n",
    "        list: A list of words greater than length k.\n",
    "    \"\"\"\n",
    "    return [word for word in lst if len(word) > k]\n",
    "\n",
    "# Example usage:\n",
    "my_list = [\"apple\", \"banana\", \"orange\", \"grape\", \"kiwi\"]\n",
    "k = 5\n",
    "result = find_words_greater_than_length(my_list, k)\n",
    "print(f\"Words greater than length {k}:\", result)"
   ]
  },
  {
   "cell_type": "code",
   "execution_count": 4,
   "id": "7c0890c3",
   "metadata": {},
   "outputs": [
    {
     "name": "stdout",
     "output_type": "stream",
     "text": [
      "After removing the 2-th character: helo\n"
     ]
    }
   ],
   "source": [
    "def remove_ith_character(input_string, i):\n",
    "    \"\"\"\n",
    "    Function to remove the i-th character from a string.\n",
    "    \n",
    "    Parameters:\n",
    "        input_string (str): The input string.\n",
    "        i (int): The index of the character to be removed (0-based indexing).\n",
    "        \n",
    "    Returns:\n",
    "        str: The string with the i-th character removed.\n",
    "    \"\"\"\n",
    "    if i < 0 or i >= len(input_string):\n",
    "        return \"Invalid index\"\n",
    "    \n",
    "    return input_string[:i] + input_string[i+1:]\n",
    "\n",
    "# Example usage:\n",
    "input_string = \"hello\"\n",
    "i = 2\n",
    "result = remove_ith_character(input_string, i)\n",
    "print(f\"After removing the {i}-th character:\", result)"
   ]
  },
  {
   "cell_type": "code",
   "execution_count": 10,
   "id": "5f961048",
   "metadata": {},
   "outputs": [
    {
     "name": "stdout",
     "output_type": "stream",
     "text": [
      "Original string: Hello, how are you?\n",
      "['Hello,', 'how', 'are', 'you?']\n",
      "String after splitting and joining: Hello, how are you?\n"
     ]
    }
   ],
   "source": [
    "def split_and_join(input_string):\n",
    "    \"\"\"\n",
    "    Function to split and then join a string.\n",
    "    \n",
    "    Parameters:\n",
    "        input_string (str): The input string to be split and joined.\n",
    "        \n",
    "    Returns:\n",
    "        str: The joined string after splitting.\n",
    "    \"\"\"\n",
    "    # Splitting the string into a list of words\n",
    "    words = input_string.split()\n",
    "    \n",
    "    # Joining the list of words into a single string using a space as separator\n",
    "    joined_string = ' '.join(words)\n",
    "    \n",
    "    return joined_string\n",
    "\n",
    "# Example usage:\n",
    "input_string = \"Hello, how are you?\"\n",
    "print(\"Original string:\", input_string)\n",
    "\n",
    "# Splitting and joining the string\n",
    "result_string = split_and_join(input_string)\n",
    "print(\"String after splitting and joining:\", result_string)"
   ]
  },
  {
   "cell_type": "code",
   "execution_count": 17,
   "id": "f19f9ba8",
   "metadata": {},
   "outputs": [
    {
     "name": "stdout",
     "output_type": "stream",
     "text": [
      "'1101a1' is not a binary string.\n"
     ]
    }
   ],
   "source": [
    "def is_binary_string(input_string):\n",
    "    \"\"\"\n",
    "    Function to check if a given string is a binary string.\n",
    "    \n",
    "    Parameters:\n",
    "        input_string (str): The input string to be checked.\n",
    "        \n",
    "    Returns:\n",
    "        bool: True if the input string is a binary string, False otherwise.\n",
    "    \"\"\"\n",
    "    # Iterate through each character of the string\n",
    "    for char in input_string:\n",
    "        # Check if the character is not '0' or '1'\n",
    "        if char not in '01':\n",
    "            return False\n",
    "    return True\n",
    "\n",
    "# Example usage:\n",
    "test_string = \"1101a1\"\n",
    "if is_binary_string(test_string):\n",
    "    print(f\"'{test_string}' is a binary string.\")\n",
    "else:\n",
    "    print(f\"'{test_string}' is not a binary string.\")"
   ]
  },
  {
   "cell_type": "code",
   "execution_count": 18,
   "id": "31567bba",
   "metadata": {},
   "outputs": [
    {
     "name": "stdout",
     "output_type": "stream",
     "text": [
      "Uncommon words: ['apple', 'mango']\n"
     ]
    }
   ],
   "source": [
    "def find_uncommon_words(str1, str2):\n",
    "    \"\"\"\n",
    "    Function to find uncommon words from two strings.\n",
    "    \n",
    "    Parameters:\n",
    "        str1 (str): The first input string.\n",
    "        str2 (str): The second input string.\n",
    "        \n",
    "    Returns:\n",
    "        list: A list containing uncommon words from the two strings.\n",
    "    \"\"\"\n",
    "    # Split the strings into lists of words\n",
    "    words1 = str1.split()\n",
    "    words2 = str2.split()\n",
    "    \n",
    "    # Convert the lists of words to sets for efficient comparison\n",
    "    set1 = set(words1)\n",
    "    set2 = set(words2)\n",
    "    \n",
    "    # Find uncommon words by taking the symmetric difference of the sets\n",
    "    uncommon_words = set1.symmetric_difference(set2)\n",
    "    \n",
    "    return list(uncommon_words)\n",
    "\n",
    "# Example usage:\n",
    "string1 = \"apple banana orange\"\n",
    "string2 = \"banana orange mango\"\n",
    "uncommon = find_uncommon_words(string1, string2)\n",
    "print(\"Uncommon words:\", uncommon)"
   ]
  },
  {
   "cell_type": "code",
   "execution_count": 20,
   "id": "2914ea02",
   "metadata": {},
   "outputs": [
    {
     "name": "stdout",
     "output_type": "stream",
     "text": [
      "Duplicate characters: ['l', 'o']\n"
     ]
    }
   ],
   "source": [
    "def find_duplicate_characters(input_string):\n",
    "    \"\"\"\n",
    "    Function to find all duplicate characters in a string.\n",
    "    \n",
    "    Parameters:\n",
    "        input_string (str): The input string.\n",
    "        \n",
    "    Returns:\n",
    "        list: A list containing all duplicate characters found in the string.\n",
    "    \"\"\"\n",
    "    # Initialize an empty list to store duplicate characters\n",
    "    duplicates = []\n",
    "    \n",
    "    # Initialize an empty set to keep track of characters seen before\n",
    "    seen = set()\n",
    "    \n",
    "    # Iterate through each character of the string\n",
    "    for char in input_string:\n",
    "        # If the character has been seen before and not already in duplicates list, add it\n",
    "        if char in seen and char not in duplicates:\n",
    "            duplicates.append(char)\n",
    "        else:\n",
    "            # Otherwise, add it to the seen set\n",
    "            seen.add(char)\n",
    "    \n",
    "    return duplicates\n",
    "\n",
    "# Example usage:\n",
    "test_string = \"helloo\"\n",
    "result = find_duplicate_characters(test_string)\n",
    "print(\"Duplicate characters:\", result)"
   ]
  },
  {
   "cell_type": "code",
   "execution_count": 23,
   "id": "ee18f057",
   "metadata": {},
   "outputs": [
    {
     "name": "stdout",
     "output_type": "stream",
     "text": [
      "The string contains special characters.\n"
     ]
    }
   ],
   "source": [
    "def contains_special_character(input_string):\n",
    "    \"\"\"\n",
    "    Function to check if a string contains any special character.\n",
    "    \n",
    "    Parameters:\n",
    "        input_string (str): The input string.\n",
    "        \n",
    "    Returns:\n",
    "        bool: True if the string contains any special character, False otherwise.\n",
    "    \"\"\"\n",
    "    # Iterate through each character of the string\n",
    "    for char in input_string:\n",
    "        # Check if the character is a special character\n",
    "        if not char.isalnum():\n",
    "            return True\n",
    "    return False\n",
    "\n",
    "# Example usage:\n",
    "test_string = \"Hello.123\"\n",
    "if contains_special_character(test_string):\n",
    "    print(\"The string contains special characters.\")\n",
    "else:\n",
    "    print(\"The string does not contain any special characters.\")"
   ]
  }
 ],
 "metadata": {
  "kernelspec": {
   "display_name": "Python 3 (ipykernel)",
   "language": "python",
   "name": "python3"
  },
  "language_info": {
   "codemirror_mode": {
    "name": "ipython",
    "version": 3
   },
   "file_extension": ".py",
   "mimetype": "text/x-python",
   "name": "python",
   "nbconvert_exporter": "python",
   "pygments_lexer": "ipython3",
   "version": "3.8.10"
  }
 },
 "nbformat": 4,
 "nbformat_minor": 5
}
