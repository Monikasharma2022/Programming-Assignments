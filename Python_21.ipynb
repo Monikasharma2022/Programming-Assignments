{
 "cells": [
  {
   "cell_type": "code",
   "execution_count": null,
   "id": "9f4ac6b2",
   "metadata": {},
   "outputs": [],
   "source": [
    "# Question1\n",
    "# Write a function that takes a list and a number as arguments. Add the number to the end of\n",
    "# the list, then remove the first element of the list. The function should then return the updated\n",
    "# list.\n",
    "\n",
    "# Question2\n",
    "# Create the function that takes a list of dictionaries and returns the sum of people&#39;s budgets.\n",
    "\n",
    "# Question3\n",
    "# Create a function that takes a string and returns a string with its letters in alphabetical order.\n",
    "\n",
    "# Question4\n",
    "# Suppose that you invest $10,000 for 10 years at an interest rate of 6% compounded monthly.\n",
    "# What will be the value of your investment at the end of the 10 year period?\n",
    "# Create a function that accepts the principal p, the term in years t, the interest rate r, and the\n",
    "# number of compounding periods per year n. The function returns the value at the end of term\n",
    "# rounded to the nearest cent.\n",
    "\n",
    "\n",
    "# Question5\n",
    "# Write a function that takes a list of elements and returns only the integers."
   ]
  },
  {
   "cell_type": "code",
   "execution_count": 1,
   "id": "e3e379f0",
   "metadata": {},
   "outputs": [
    {
     "name": "stdout",
     "output_type": "stream",
     "text": [
      "[6, 7, 8, 9, 1]\n",
      "[6, 3, 23, 17, 10]\n",
      "[10, 20, 42, 6]\n",
      "No list has been selected\n"
     ]
    }
   ],
   "source": [
    "def next_in_line(lst, num):\n",
    "    if not lst:\n",
    "        return \"No list has been selected\"\n",
    "    lst.pop(0)  # Remove the first element\n",
    "    lst.append(num)  # Add the number to the end\n",
    "    return lst\n",
    "\n",
    "# Test cases\n",
    "print(next_in_line([5, 6, 7, 8, 9], 1))   # ➞ [6, 7, 8, 9, 1]\n",
    "print(next_in_line([7, 6, 3, 23, 17], 10)) # ➞ [6, 3, 23, 17, 10]\n",
    "print(next_in_line([1, 10, 20, 42 ], 6))   # ➞ [10, 20, 42, 6]\n",
    "print(next_in_line([], 6))                 # ➞ \"No list has been selected\""
   ]
  },
  {
   "cell_type": "code",
   "execution_count": 2,
   "id": "0acc0595",
   "metadata": {},
   "outputs": [
    {
     "name": "stdout",
     "output_type": "stream",
     "text": [
      "65700\n",
      "62600\n"
     ]
    }
   ],
   "source": [
    "def get_budgets(lst):\n",
    "    total_budget = 0\n",
    "    for person in lst:\n",
    "        total_budget += person['budget']\n",
    "    return total_budget\n",
    "\n",
    "# Test cases\n",
    "print(get_budgets([\n",
    "    {\"name\": \"John\", \"age\": 21, \"budget\": 23000},\n",
    "    {\"name\": \"Steve\", \"age\": 32, \"budget\": 40000},\n",
    "    {\"name\": \"Martin\", \"age\": 16, \"budget\": 2700}\n",
    "]))  # ➞ 65700\n",
    "\n",
    "print(get_budgets([\n",
    "    {\"name\": \"John\", \"age\": 21, \"budget\": 29000},\n",
    "    {\"name\": \"Steve\", \"age\": 32, \"budget\": 32000},\n",
    "    {\"name\": \"Martin\", \"age\": 16, \"budget\": 1600}\n",
    "]))  # ➞ 62600"
   ]
  },
  {
   "cell_type": "code",
   "execution_count": 3,
   "id": "169a8daf",
   "metadata": {},
   "outputs": [
    {
     "name": "stdout",
     "output_type": "stream",
     "text": [
      "ehllo\n",
      "abdeit\n",
      "acehkr\n",
      "eegk\n",
      "aacijprstv\n"
     ]
    }
   ],
   "source": [
    "def alphabet_soup(s):\n",
    "    sorted_string = ''.join(sorted(s))\n",
    "    return sorted_string\n",
    "\n",
    "# Test cases\n",
    "print(alphabet_soup(\"hello\"))       # ➞ \"ehllo\"\n",
    "print(alphabet_soup(\"edabit\"))      # ➞ \"abdeit\"\n",
    "print(alphabet_soup(\"hacker\"))      # ➞ \"acehkr\"\n",
    "print(alphabet_soup(\"geek\"))        # ➞ \"eegk\"\n",
    "print(alphabet_soup(\"javascript\"))  # ➞ \"aacijprstv\""
   ]
  },
  {
   "cell_type": "code",
   "execution_count": 6,
   "id": "eef47239",
   "metadata": {},
   "outputs": [
    {
     "data": {
      "text/plain": [
       "'aegrt'"
      ]
     },
     "execution_count": 6,
     "metadata": {},
     "output_type": "execute_result"
    }
   ],
   "source": [
    "''.join(sorted(\"great\"))"
   ]
  },
  {
   "cell_type": "code",
   "execution_count": 7,
   "id": "1af18542",
   "metadata": {},
   "outputs": [
    {
     "name": "stdout",
     "output_type": "stream",
     "text": [
      "18193.97\n",
      "105.0\n",
      "15399.26\n",
      "2007316.26\n"
     ]
    }
   ],
   "source": [
    "def compound_interest(p, t, r, n):\n",
    "    A = p * (1 + r / n) ** (n * t)\n",
    "    return round(A, 2)\n",
    "\n",
    "# Test cases\n",
    "print(compound_interest(10000, 10, 0.06, 12))   # ➞ 18193.97\n",
    "print(compound_interest(100, 1, 0.05, 1))       # ➞ 105.0\n",
    "print(compound_interest(3500, 15, 0.1, 4))      # ➞ 15399.26\n",
    "print(compound_interest(100000, 20, 0.15, 365)) # ➞ 2007316.26"
   ]
  },
  {
   "cell_type": "code",
   "execution_count": 9,
   "id": "7d8c35a7",
   "metadata": {},
   "outputs": [
    {
     "name": "stdout",
     "output_type": "stream",
     "text": [
      "[9, 2, 16]\n",
      "[81, 123]\n",
      "[10, 56, 20, 3]\n",
      "[True, 1]\n"
     ]
    }
   ],
   "source": [
    "def return_only_integer(lst):\n",
    "    return [x for x in lst if isinstance(x, int)]\n",
    "\n",
    "# Test cases\n",
    "print(return_only_integer([9, 2, \"space\", \"car\", \"lion\", 16]))  # ➞ [9, 2, 16]\n",
    "print(return_only_integer([\"hello\", 81, \"basketball\", 123, \"fox\"]))  # ➞ [81, 123]\n",
    "print(return_only_integer([10, \"121\", 56, 20, \"car\", 3, \"lion\"]))  # ➞ [10, 56, 20, 3]\n",
    "print(return_only_integer([\"String\", True, 3.3, 1]))  # ➞ [1]"
   ]
  }
 ],
 "metadata": {
  "kernelspec": {
   "display_name": "Python 3 (ipykernel)",
   "language": "python",
   "name": "python3"
  },
  "language_info": {
   "codemirror_mode": {
    "name": "ipython",
    "version": 3
   },
   "file_extension": ".py",
   "mimetype": "text/x-python",
   "name": "python",
   "nbconvert_exporter": "python",
   "pygments_lexer": "ipython3",
   "version": "3.8.10"
  }
 },
 "nbformat": 4,
 "nbformat_minor": 5
}
