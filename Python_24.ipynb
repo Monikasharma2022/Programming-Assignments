{
 "cells": [
  {
   "cell_type": "code",
   "execution_count": 1,
   "id": "3485eab8",
   "metadata": {},
   "outputs": [],
   "source": [
    "# Question1\n",
    "# Create a function that takes an integer and returns a list from 1 to the given number, where:\n",
    "# 1. If the number can be divided evenly by 4, amplify it by 10 (i.e. return 10 times the\n",
    "# number).\n",
    "# 2. If the number cannot be divided evenly by 4, simply return the number.\n",
    "\n",
    "# Question2\n",
    "# Create a function that takes a list of numbers and return the number that&#39;s unique.\n",
    "# Notes\n",
    "# Test cases will always have exactly one unique number while all others are the same.\n",
    "\n",
    "# Question3\n",
    "# Your task is to create a Circle constructor that creates a circle with a radius provided by an\n",
    "# argument. The circles constructed must have two getters getArea() (PIr^2) and\n",
    "# getPerimeter() (2PI*r) which give both respective areas and perimeter (circumference).\n",
    "\n",
    "# For help with this class, I have provided you with a Rectangle constructor which you can use\n",
    "# as a base example.\n",
    "# Notes\n",
    "# Round results up to the nearest integer.\n",
    "\n",
    "# Question4\n",
    "# Create a function that takes a list of strings and return a list, sorted from shortest to longest.\n",
    "# Notes\n",
    "# All test cases contain lists with strings of different lengths, so you won&#39;t have to deal with\n",
    "# multiple strings of the same length.\n",
    "\n",
    "# Question5\n",
    "# Create a function that validates whether three given integers form a Pythagorean triplet. The\n",
    "# sum of the squares of the two smallest integers must equal the square of the largest number to\n",
    "# be validated.\n",
    "# Notes\n",
    "# Numbers may not be given in a sorted order."
   ]
  },
  {
   "cell_type": "code",
   "execution_count": 2,
   "id": "0f2b423e",
   "metadata": {},
   "outputs": [
    {
     "name": "stdout",
     "output_type": "stream",
     "text": [
      "[1, 2, 3, 40]\n",
      "[1, 2, 3]\n",
      "[1, 2, 3, 40, 5, 6, 7, 80, 9, 10, 11, 120, 13, 14, 15, 160, 17, 18, 19, 200, 21, 22, 23, 240, 25]\n"
     ]
    }
   ],
   "source": [
    "def amplify(num):\n",
    "    # Use list comprehension to generate the list\n",
    "    return [i * 10 if i % 4 == 0 else i for i in range(1, num + 1)]\n",
    "\n",
    "# Test cases\n",
    "print(amplify(4))    # ➞ [1, 2, 3, 40]\n",
    "print(amplify(3))    # ➞ [1, 2, 3]\n",
    "print(amplify(25))   # ➞ [1, 2, 3, 40, 5, 6, 7, 80, 9, 10, 11, 120, 13, 14, 15, 160, 17, 18, 19, 200, 21, 22, 23, 240, 25]"
   ]
  },
  {
   "cell_type": "code",
   "execution_count": 3,
   "id": "26b34c3a",
   "metadata": {},
   "outputs": [
    {
     "name": "stdout",
     "output_type": "stream",
     "text": [
      "7\n",
      "0.77\n",
      "0\n"
     ]
    }
   ],
   "source": [
    "def unique(lst):\n",
    "    # Create a dictionary to store the count of each number\n",
    "    count_dict = {}\n",
    "    # Count occurrences of each number in the list\n",
    "    for num in lst:\n",
    "        if num in count_dict:\n",
    "            count_dict[num] += 1\n",
    "        else:\n",
    "            count_dict[num] = 1\n",
    "    # Iterate through the dictionary and return the number with count 1\n",
    "    for num, count in count_dict.items():\n",
    "        if count == 1:\n",
    "            return num\n",
    "\n",
    "# Test cases\n",
    "print(unique([3, 3, 3, 7, 3, 3]))         # ➞ 7\n",
    "print(unique([0, 0, 0.77, 0, 0]))         # ➞ 0.77\n",
    "print(unique([0, 1, 1, 1, 1, 1, 1, 1]))   # ➞ 0"
   ]
  },
  {
   "cell_type": "code",
   "execution_count": 4,
   "id": "3de3ad1a",
   "metadata": {},
   "outputs": [
    {
     "name": "stdout",
     "output_type": "stream",
     "text": [
      "380\n",
      "28\n"
     ]
    }
   ],
   "source": [
    "import math\n",
    "\n",
    "class Circle:\n",
    "    def __init__(self, radius):\n",
    "        self.radius = radius\n",
    "    \n",
    "    def getArea(self):\n",
    "        # Calculate the area of the circle (PI * radius^2)\n",
    "        area = math.pi * self.radius ** 2\n",
    "        # Round the result up to the nearest integer\n",
    "        return round(area)\n",
    "\n",
    "    def getPerimeter(self):\n",
    "        # Calculate the perimeter of the circle (2 * PI * radius)\n",
    "        perimeter = 2 * math.pi * self.radius\n",
    "        # Round the result up to the nearest integer\n",
    "        return round(perimeter)\n",
    "\n",
    "# Test cases\n",
    "circy = Circle(11)\n",
    "print(circy.getArea())         # Should return 380\n",
    "circy = Circle(4.44)\n",
    "print(circy.getPerimeter())    # Should return 28"
   ]
  },
  {
   "cell_type": "code",
   "execution_count": 5,
   "id": "56ec3364",
   "metadata": {},
   "outputs": [
    {
     "name": "stdout",
     "output_type": "stream",
     "text": [
      "['Apple', 'Google', 'Microsoft']\n",
      "['Raphael', 'Leonardo', 'Donatello', 'Michelangelo']\n",
      "['Jung', 'Turing', 'Einstein']\n"
     ]
    }
   ],
   "source": [
    "def sort_by_length(lst):\n",
    "    # Sort the list of strings based on their lengths\n",
    "    return sorted(lst, key=len)\n",
    "\n",
    "# Test cases\n",
    "print(sort_by_length([\"Google\", \"Apple\", \"Microsoft\"]))  # ➞ [\"Apple\", \"Google\", \"Microsoft\"]\n",
    "print(sort_by_length([\"Leonardo\", \"Michelangelo\", \"Raphael\", \"Donatello\"]))  # ➞ [\"Raphael\", \"Leonardo\", \"Donatello\", \"Michelangelo\"]\n",
    "print(sort_by_length([\"Turing\", \"Einstein\", \"Jung\"]))  # ➞ [\"Jung\", \"Turing\", \"Einstein\"]"
   ]
  },
  {
   "cell_type": "code",
   "execution_count": 6,
   "id": "ebc69201",
   "metadata": {},
   "outputs": [
    {
     "name": "stdout",
     "output_type": "stream",
     "text": [
      "True\n",
      "True\n",
      "False\n"
     ]
    }
   ],
   "source": [
    "def is_triplet(a, b, c):\n",
    "    # Sort the three integers\n",
    "    sorted_nums = sorted([a, b, c])\n",
    "    # Check if the sum of squares of the two smallest equals the square of the largest\n",
    "    return sorted_nums[0] ** 2 + sorted_nums[1] ** 2 == sorted_nums[2] ** 2\n",
    "\n",
    "# Test cases\n",
    "print(is_triplet(3, 4, 5))    # ➞ True\n",
    "print(is_triplet(13, 5, 12))   # ➞ True\n",
    "print(is_triplet(1, 2, 3))     # ➞ False"
   ]
  },
  {
   "cell_type": "code",
   "execution_count": null,
   "id": "8636df34",
   "metadata": {},
   "outputs": [],
   "source": []
  }
 ],
 "metadata": {
  "kernelspec": {
   "display_name": "Python 3 (ipykernel)",
   "language": "python",
   "name": "python3"
  },
  "language_info": {
   "codemirror_mode": {
    "name": "ipython",
    "version": 3
   },
   "file_extension": ".py",
   "mimetype": "text/x-python",
   "name": "python",
   "nbconvert_exporter": "python",
   "pygments_lexer": "ipython3",
   "version": "3.8.10"
  }
 },
 "nbformat": 4,
 "nbformat_minor": 5
}
