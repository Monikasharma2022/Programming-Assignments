{
 "cells": [
  {
   "cell_type": "code",
   "execution_count": null,
   "id": "3bba87bb",
   "metadata": {},
   "outputs": [],
   "source": []
  },
  {
   "cell_type": "code",
   "execution_count": 2,
   "id": "0eefed7d",
   "metadata": {},
   "outputs": [
    {
     "name": "stdout",
     "output_type": "stream",
     "text": [
      "Enter comma-separated sequence of D values: 100,150,180\n",
      "18,22,24\n"
     ]
    }
   ],
   "source": [
    "import math\n",
    "\n",
    "# Fixed values of C and H\n",
    "C = 50\n",
    "H = 30\n",
    "\n",
    "# Function to calculate Q\n",
    "def calculate_Q(D):\n",
    "    return int(math.sqrt((2 * C * D) / H))\n",
    "\n",
    "# Input comma-separated sequence of D values\n",
    "input_sequence = input(\"Enter comma-separated sequence of D values: \")\n",
    "\n",
    "# Split the input sequence into individual values\n",
    "D_values = input_sequence.split(',')\n",
    "\n",
    "# Calculate and print the value of Q for each D value\n",
    "result = [calculate_Q(int(D)) for D in D_values]\n",
    "print(','.join(map(str, result)))"
   ]
  },
  {
   "cell_type": "code",
   "execution_count": 3,
   "id": "fb71e8fa",
   "metadata": {},
   "outputs": [
    {
     "name": "stdout",
     "output_type": "stream",
     "text": [
      "Enter two digits (X, Y): 2,3\n",
      "[[0, 0, 0], [0, 1, 2]]\n"
     ]
    }
   ],
   "source": [
    "def generate_2d_array(X, Y):\n",
    "    return [[i * j for j in range(Y)] for i in range(X)]\n",
    "\n",
    "# Input\n",
    "X, Y = map(int, input(\"Enter two digits (X, Y): \").split(','))\n",
    "\n",
    "# Generate 2-dimensional array\n",
    "result = generate_2d_array(X, Y)\n",
    "\n",
    "# Output\n",
    "print(result)"
   ]
  },
  {
   "cell_type": "code",
   "execution_count": 7,
   "id": "87d0fea7",
   "metadata": {},
   "outputs": [
    {
     "name": "stdout",
     "output_type": "stream",
     "text": [
      "Enter comma-separated sequence of words: hii,monika,how,are,you\n",
      "are,hii,how,monika,you\n"
     ]
    }
   ],
   "source": [
    "# Accept input\n",
    "input_sequence = input(\"Enter comma-separated sequence of words: \")\n",
    "\n",
    "# Split the input sequence into individual words\n",
    "words = input_sequence.split(',')\n",
    "\n",
    "# Sort the list of words alphabetically\n",
    "sorted_words = sorted(words)\n",
    "\n",
    "# Join the sorted words into a comma-separated string\n",
    "sorted_sequence = ','.join(sorted_words)\n",
    "\n",
    "# Print the sorted comma-separated string\n",
    "print(sorted_sequence)"
   ]
  },
  {
   "cell_type": "code",
   "execution_count": 8,
   "id": "ca6681cd",
   "metadata": {},
   "outputs": [
    {
     "name": "stdout",
     "output_type": "stream",
     "text": [
      "Enter whitespace-separated sequence of words: hii there i am monika\n",
      "am hii i monika there\n"
     ]
    }
   ],
   "source": [
    "# Accept input\n",
    "input_sequence = input(\"Enter whitespace-separated sequence of words: \")\n",
    "\n",
    "# Split the input sequence into individual words\n",
    "words = input_sequence.split()\n",
    "\n",
    "# Remove duplicate words while preserving the order\n",
    "unique_words = []\n",
    "for word in words:\n",
    "    if word not in unique_words:\n",
    "        unique_words.append(word)\n",
    "\n",
    "# Sort the list of unique words alphabetically\n",
    "sorted_unique_words = sorted(unique_words)\n",
    "\n",
    "# Join the sorted words into a whitespace-separated string\n",
    "sorted_sequence = ' '.join(sorted_unique_words)\n",
    "\n",
    "# Print the sorted string\n",
    "print(sorted_sequence)"
   ]
  },
  {
   "cell_type": "code",
   "execution_count": 9,
   "id": "a26d523c",
   "metadata": {},
   "outputs": [
    {
     "name": "stdout",
     "output_type": "stream",
     "text": [
      "Enter a sentence: hii there it is 11:50\n",
      "LETTERS 12\n",
      "DIGITS 4\n"
     ]
    }
   ],
   "source": [
    "# Accept input\n",
    "input_sentence = input(\"Enter a sentence: \")\n",
    "\n",
    "# Initialize counters for letters and digits\n",
    "letter_count = 0\n",
    "digit_count = 0\n",
    "\n",
    "# Iterate through each character in the input sentence\n",
    "for char in input_sentence:\n",
    "    # Check if the character is a letter\n",
    "    if char.isalpha():\n",
    "        letter_count += 1\n",
    "    # Check if the character is a digit\n",
    "    elif char.isdigit():\n",
    "        digit_count += 1\n",
    "\n",
    "# Print the counts\n",
    "print(\"LETTERS\", letter_count)\n",
    "print(\"DIGITS\", digit_count)"
   ]
  },
  {
   "cell_type": "code",
   "execution_count": 19,
   "id": "79272a0c",
   "metadata": {},
   "outputs": [
    {
     "name": "stdout",
     "output_type": "stream",
     "text": [
      "Enter comma-separated passwords: Monika@123, 1234, monika1\n",
      "Monika@123\n"
     ]
    }
   ],
   "source": [
    "import re\n",
    "def is_valid_password(password):\n",
    "    # Check length\n",
    "    if len(password) < 6 or len(password) > 12:\n",
    "        return False\n",
    "    \n",
    "    # Check for at least one lowercase letter\n",
    "    if not re.search(\"[a-z]\", password):\n",
    "        return False\n",
    "    \n",
    "    # Check for at least one uppercase letter\n",
    "    if not re.search(\"[A-Z]\", password):\n",
    "        return False\n",
    "    \n",
    "    # Check for at least one digit\n",
    "    if not re.search(\"[0-9]\", password):\n",
    "        return False\n",
    "    \n",
    "    # Check for at least one special character\n",
    "    if not re.search(\"[$#@]\", password):\n",
    "        return False\n",
    "    \n",
    "    return True\n",
    "\n",
    "# Accept input sequence of comma-separated passwords\n",
    "passwords = input(\"Enter comma-separated passwords: \").split(',')\n",
    "\n",
    "# Validate each password and print valid ones\n",
    "valid_passwords = [password for password in passwords if is_valid_password(password)]\n",
    "print(','.join(valid_passwords))"
   ]
  },
  {
   "cell_type": "code",
   "execution_count": 17,
   "id": "e352dfa8",
   "metadata": {},
   "outputs": [],
   "source": [
    "import re\n",
    "if not re.search(\"[a-z]\", \"abc\"):\n",
    "    print('hii') "
   ]
  }
 ],
 "metadata": {
  "kernelspec": {
   "display_name": "Python 3 (ipykernel)",
   "language": "python",
   "name": "python3"
  },
  "language_info": {
   "codemirror_mode": {
    "name": "ipython",
    "version": 3
   },
   "file_extension": ".py",
   "mimetype": "text/x-python",
   "name": "python",
   "nbconvert_exporter": "python",
   "pygments_lexer": "ipython3",
   "version": "3.8.10"
  }
 },
 "nbformat": 4,
 "nbformat_minor": 5
}
