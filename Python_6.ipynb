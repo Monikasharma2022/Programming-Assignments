{
 "cells": [
  {
   "cell_type": "code",
   "execution_count": null,
   "id": "8ee3ed3d",
   "metadata": {},
   "outputs": [],
   "source": [
    "# 1. Write a Python Program to Display Fibonacci Sequence Using Recursion?\n",
    "# 2. Write a Python Program to Find Factorial of Number Using Recursion?\n",
    "# 3. Write a Python Program to calculate your Body Mass Index?\n",
    "# 4. Write a Python Program to calculate the natural logarithm of any number?\n",
    "# 5. Write a Python Program for cube sum of first n natural numbers?"
   ]
  },
  {
   "cell_type": "code",
   "execution_count": 3,
   "id": "4f1928ca",
   "metadata": {},
   "outputs": [
    {
     "name": "stdout",
     "output_type": "stream",
     "text": [
      "Enter the number of terms: 2\n",
      "Fibonacci sequence:\n",
      "0 1 "
     ]
    }
   ],
   "source": [
    "def fibonacci(n):\n",
    "    if n <= 1:\n",
    "        return n\n",
    "    else:\n",
    "        return fibonacci(n-1) + fibonacci(n-2)\n",
    "\n",
    "def main():\n",
    "    terms = int(input(\"Enter the number of terms: \"))\n",
    "\n",
    "    if terms <= 0:\n",
    "        print(\"Please enter a positive integer.\")\n",
    "    else:\n",
    "        print(\"Fibonacci sequence:\")\n",
    "        for i in range(terms):\n",
    "            print(fibonacci(i), end=\" \")\n",
    "\n",
    "if __name__ == \"__main__\":\n",
    "    main()"
   ]
  },
  {
   "cell_type": "code",
   "execution_count": 4,
   "id": "483433c4",
   "metadata": {},
   "outputs": [
    {
     "name": "stdout",
     "output_type": "stream",
     "text": [
      "Enter a non-negative integer: 5\n",
      "Factorial of 5 is 120\n"
     ]
    }
   ],
   "source": [
    "def factorial(n):\n",
    "    if n == 0:\n",
    "        return 1\n",
    "    else:\n",
    "        return n * factorial(n-1)\n",
    "\n",
    "# Input\n",
    "num = int(input(\"Enter a non-negative integer: \"))\n",
    "\n",
    "if num < 0:\n",
    "    print(\"Factorial is not defined for negative numbers.\")\n",
    "else:\n",
    "    print(\"Factorial of\", num, \"is\", factorial(num))"
   ]
  },
  {
   "cell_type": "code",
   "execution_count": 5,
   "id": "360d8425",
   "metadata": {},
   "outputs": [
    {
     "name": "stdout",
     "output_type": "stream",
     "text": [
      "Enter your weight in kilograms: 56\n",
      "Enter your height in meters: 1.55\n",
      "Your BMI is: 23.31\n",
      "Interpretation: Normal weight\n"
     ]
    }
   ],
   "source": [
    "def calculate_bmi(weight, height):\n",
    "    return weight / (height ** 2)\n",
    "\n",
    "def interpret_bmi(bmi):\n",
    "    if bmi < 18.5:\n",
    "        return \"Underweight\"\n",
    "    elif 18.5 <= bmi < 25:\n",
    "        return \"Normal weight\"\n",
    "    elif 25 <= bmi < 30:\n",
    "        return \"Overweight\"\n",
    "    else:\n",
    "        return \"Obese\"\n",
    "\n",
    "# Input\n",
    "weight_kg = float(input(\"Enter your weight in kilograms: \"))\n",
    "height_m = float(input(\"Enter your height in meters: \"))\n",
    "\n",
    "# Calculate BMI\n",
    "bmi = calculate_bmi(weight_kg, height_m)\n",
    "\n",
    "# Interpret BMI\n",
    "interpretation = interpret_bmi(bmi)\n",
    "\n",
    "# Output\n",
    "print(\"Your BMI is:\", round(bmi, 2))\n",
    "print(\"Interpretation:\", interpretation)\n"
   ]
  },
  {
   "cell_type": "code",
   "execution_count": 6,
   "id": "e5a63e40",
   "metadata": {},
   "outputs": [
    {
     "name": "stdout",
     "output_type": "stream",
     "text": [
      "Enter a positive number: 2\n",
      "Natural logarithm of 2.0 is: 0.6931471805599453\n"
     ]
    }
   ],
   "source": [
    "import math\n",
    "\n",
    "def calculate_logarithm(number):\n",
    "    if number <= 0:\n",
    "        return \"Natural logarithm is undefined for non-positive numbers.\"\n",
    "    else:\n",
    "        return math.log(number)\n",
    "\n",
    "# Input\n",
    "num = float(input(\"Enter a positive number: \"))\n",
    "\n",
    "# Calculate natural logarithm\n",
    "result = calculate_logarithm(num)\n",
    "\n",
    "# Output\n",
    "print(\"Natural logarithm of\", num, \"is:\", result)\n"
   ]
  },
  {
   "cell_type": "code",
   "execution_count": 7,
   "id": "6c98955e",
   "metadata": {},
   "outputs": [
    {
     "name": "stdout",
     "output_type": "stream",
     "text": [
      "Enter a positive integer (n): 3\n",
      "Cube sum of the first 3 natural numbers is: 36\n"
     ]
    }
   ],
   "source": [
    "def cube_sum(n):\n",
    "    if n <= 0:\n",
    "        return \"Please enter a positive integer.\"\n",
    "    else:\n",
    "        # Calculate the cube sum\n",
    "        total = sum(i**3 for i in range(1, n+1))\n",
    "        return total\n",
    "\n",
    "# Input\n",
    "num = int(input(\"Enter a positive integer (n): \"))\n",
    "\n",
    "# Calculate cube sum\n",
    "result = cube_sum(num)\n",
    "\n",
    "# Output\n",
    "print(\"Cube sum of the first\", num, \"natural numbers is:\", result)\n"
   ]
  },
  {
   "cell_type": "code",
   "execution_count": null,
   "id": "1983320d",
   "metadata": {},
   "outputs": [],
   "source": []
  }
 ],
 "metadata": {
  "kernelspec": {
   "display_name": "Python 3 (ipykernel)",
   "language": "python",
   "name": "python3"
  },
  "language_info": {
   "codemirror_mode": {
    "name": "ipython",
    "version": 3
   },
   "file_extension": ".py",
   "mimetype": "text/x-python",
   "name": "python",
   "nbconvert_exporter": "python",
   "pygments_lexer": "ipython3",
   "version": "3.8.10"
  }
 },
 "nbformat": 4,
 "nbformat_minor": 5
}
