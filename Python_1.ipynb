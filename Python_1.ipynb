{
 "cells": [
  {
   "cell_type": "code",
   "execution_count": null,
   "id": "f190ef9b",
   "metadata": {},
   "outputs": [],
   "source": [
    "# 1. Write a Python program to print &quot;Hello Python&quot;?\n",
    "# 2. Write a Python program to do arithmetical operations addition and division.?\n",
    "# 3. Write a Python program to find the area of a triangle?\n",
    "# 4. Write a Python program to swap two variables?\n",
    "# 5. Write a Python program to generate a random number?"
   ]
  },
  {
   "cell_type": "code",
   "execution_count": 1,
   "id": "fd6f8ec3",
   "metadata": {},
   "outputs": [
    {
     "name": "stdout",
     "output_type": "stream",
     "text": [
      "Hello Python\n"
     ]
    }
   ],
   "source": [
    "print(\"Hello Python\")"
   ]
  },
  {
   "cell_type": "code",
   "execution_count": 2,
   "id": "38c01c24",
   "metadata": {},
   "outputs": [
    {
     "name": "stdout",
     "output_type": "stream",
     "text": [
      "Addition: 15\n",
      "Division: 2.0\n"
     ]
    }
   ],
   "source": [
    "def perform_operations(num1, num2):\n",
    "    # Addition\n",
    "    addition_result = num1 + num2\n",
    "    print(\"Addition:\", addition_result)\n",
    "\n",
    "    # Division\n",
    "    if num2 != 0:\n",
    "        division_result = num1 / num2\n",
    "        print(\"Division:\", division_result)\n",
    "    else:\n",
    "        print(\"Division by zero is not allowed.\")\n",
    "\n",
    "# Example usage\n",
    "num1 = 10\n",
    "num2 = 5\n",
    "perform_operations(num1, num2)"
   ]
  },
  {
   "cell_type": "code",
   "execution_count": 3,
   "id": "19492d1c",
   "metadata": {},
   "outputs": [
    {
     "name": "stdout",
     "output_type": "stream",
     "text": [
      "Area of the triangle: 14.696938456699069\n"
     ]
    }
   ],
   "source": [
    "def calculate_area(a, b, c):\n",
    "    # Calculate semi-perimeter\n",
    "    s = (a + b + c) / 2\n",
    "\n",
    "    # Calculate area using Heron's formula\n",
    "    area = (s * (s - a) * (s - b) * (s - c)) ** 0.5\n",
    "    return area\n",
    "\n",
    "# Example usage\n",
    "side1 = 5\n",
    "side2 = 6\n",
    "side3 = 7\n",
    "\n",
    "triangle_area = calculate_area(side1, side2, side3)\n",
    "print(\"Area of the triangle:\", triangle_area)"
   ]
  },
  {
   "cell_type": "code",
   "execution_count": 4,
   "id": "3aef7988",
   "metadata": {},
   "outputs": [
    {
     "name": "stdout",
     "output_type": "stream",
     "text": [
      "Before swapping: x = 5 and y = 10\n",
      "After swapping: x = 10 and y = 5\n"
     ]
    }
   ],
   "source": [
    "def swap_using_temp(a, b):\n",
    "    temp = a\n",
    "    a = b\n",
    "    b = temp\n",
    "    return a, b\n",
    "\n",
    "# Example usage\n",
    "x = 5\n",
    "y = 10\n",
    "print(\"Before swapping: x =\", x, \"and y =\", y)\n",
    "x, y = swap_using_temp(x, y)\n",
    "print(\"After swapping: x =\", x, \"and y =\", y)"
   ]
  },
  {
   "cell_type": "code",
   "execution_count": 5,
   "id": "2bdb4b0a",
   "metadata": {},
   "outputs": [
    {
     "name": "stdout",
     "output_type": "stream",
     "text": [
      "Random number between 1 and 100 : 51\n"
     ]
    }
   ],
   "source": [
    "import random\n",
    "\n",
    "def generate_random_number(start, end):\n",
    "    return random.randint(start, end)\n",
    "\n",
    "# Example usage\n",
    "start_range = 1\n",
    "end_range = 100\n",
    "random_number = generate_random_number(start_range, end_range)\n",
    "print(\"Random number between\", start_range, \"and\", end_range, \":\", random_number)"
   ]
  },
  {
   "cell_type": "code",
   "execution_count": null,
   "id": "4602fc0e",
   "metadata": {},
   "outputs": [],
   "source": []
  },
  {
   "cell_type": "code",
   "execution_count": null,
   "id": "48eb6213",
   "metadata": {},
   "outputs": [],
   "source": []
  },
  {
   "cell_type": "code",
   "execution_count": null,
   "id": "24a9df2e",
   "metadata": {},
   "outputs": [],
   "source": []
  }
 ],
 "metadata": {
  "kernelspec": {
   "display_name": "Python 3 (ipykernel)",
   "language": "python",
   "name": "python3"
  },
  "language_info": {
   "codemirror_mode": {
    "name": "ipython",
    "version": 3
   },
   "file_extension": ".py",
   "mimetype": "text/x-python",
   "name": "python",
   "nbconvert_exporter": "python",
   "pygments_lexer": "ipython3",
   "version": "3.8.10"
  }
 },
 "nbformat": 4,
 "nbformat_minor": 5
}
