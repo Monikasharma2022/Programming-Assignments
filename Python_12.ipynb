{
 "cells": [
  {
   "cell_type": "code",
   "execution_count": null,
   "id": "676e1a67",
   "metadata": {},
   "outputs": [],
   "source": [
    "# 1. Write a Python program to Extract Unique values dictionary values?\n",
    "# 2. Write a Python program to find the sum of all items in a dictionary?\n",
    "# 3. Write a Python program to Merging two Dictionaries?\n",
    "# 4. Write a Python program to convert key-values list to flat dictionary?\n",
    "# 5. Write a Python program to insertion at the beginning in OrderedDict?\n",
    "# 6. Write a Python program to check order of character in string using OrderedDict()?\n",
    "# 7. Write a Python program to sort Python Dictionaries by Key or Value?"
   ]
  },
  {
   "cell_type": "code",
   "execution_count": 8,
   "id": "9f2380c1",
   "metadata": {},
   "outputs": [
    {
     "name": "stdout",
     "output_type": "stream",
     "text": [
      "[1, 'Kite', 2, 3]\n",
      "[2, 3, 4]\n",
      "[3, 4, 5]\n",
      "Unique values: [1, 2, 3, 4, 5, 'Kite']\n"
     ]
    }
   ],
   "source": [
    "def extract_unique_values(dictionary):\n",
    "    \"\"\"\n",
    "    Function to extract unique values from dictionary values.\n",
    "    \n",
    "    Parameters:\n",
    "        dictionary (dict): The input dictionary.\n",
    "        \n",
    "    Returns:\n",
    "        list: A list containing unique values from the dictionary.\n",
    "    \"\"\"\n",
    "    unique_values = set()\n",
    "    for values in dictionary.values():\n",
    "        unique_values.update(values)\n",
    "    return list(unique_values)\n",
    "\n",
    "# Example usage:\n",
    "my_dict = {'a': [1, \"Kite\", 2, 3], 'b': [2, 3, 4], 'c': [3, 4, 5]}\n",
    "unique_values = extract_unique_values(my_dict)\n",
    "print(\"Unique values:\", unique_values)"
   ]
  },
  {
   "cell_type": "code",
   "execution_count": 11,
   "id": "e88e26bc",
   "metadata": {},
   "outputs": [
    {
     "name": "stdout",
     "output_type": "stream",
     "text": [
      "Sum of numeric items in the dictionary: 30.5\n"
     ]
    }
   ],
   "source": [
    "def sum_of_dictionary_items(dictionary):\n",
    "    \"\"\"\n",
    "    Function to find the sum of numeric items in a dictionary.\n",
    "    \n",
    "    Parameters:\n",
    "        dictionary (dict): The input dictionary.\n",
    "        \n",
    "    Returns:\n",
    "        int: The sum of numeric items in the dictionary.\n",
    "    \"\"\"\n",
    "    total_sum = 0\n",
    "    for value in dictionary.values():\n",
    "        if isinstance(value, (int, float)):\n",
    "            total_sum += value\n",
    "    return total_sum\n",
    "\n",
    "# Example usage:\n",
    "my_dict = {'a': 10, 'b': 'not a number', 'c': 20.5, 'd': 'also not a number'}\n",
    "total_sum = sum_of_dictionary_items(my_dict)\n",
    "print(\"Sum of numeric items in the dictionary:\", total_sum)"
   ]
  },
  {
   "cell_type": "code",
   "execution_count": 15,
   "id": "d18a13ec",
   "metadata": {},
   "outputs": [
    {
     "name": "stdout",
     "output_type": "stream",
     "text": [
      "Merged dictionary: {'a': [1, 2], 'b': 2, 'c': 3, 'd': 4}\n"
     ]
    }
   ],
   "source": [
    "def merge_dictionaries(dict1, dict2):\n",
    "    \"\"\"\n",
    "    Function to merge two dictionaries using the update() method.\n",
    "    \n",
    "    Parameters:\n",
    "        dict1 (dict): The first dictionary.\n",
    "        dict2 (dict): The second dictionary.\n",
    "        \n",
    "    Returns:\n",
    "        dict: The merged dictionary.\n",
    "    \"\"\"\n",
    "    merged_dict = dict1.copy()\n",
    "    merged_dict.update(dict2)\n",
    "    return merged_dict\n",
    "\n",
    "# Example usage:\n",
    "dict1 = {'a': [1,2], 'b': 2}\n",
    "dict2 = {'c': 3, 'd': 4}\n",
    "merged_dict = merge_dictionaries(dict1, dict2)\n",
    "print(\"Merged dictionary:\", merged_dict)"
   ]
  },
  {
   "cell_type": "code",
   "execution_count": 18,
   "id": "e862e584",
   "metadata": {},
   "outputs": [
    {
     "name": "stdout",
     "output_type": "stream",
     "text": [
      "Merged dictionary: {'a': [1, 'strg'], 'b': 2, 'c': 3, 'd': 4}\n"
     ]
    }
   ],
   "source": [
    "def merge_dictionaries(dict1, dict2):\n",
    "    \"\"\"\n",
    "    Function to merge two dictionaries using dictionary unpacking.\n",
    "    \n",
    "    Parameters:\n",
    "        dict1 (dict): The first dictionary.\n",
    "        dict2 (dict): The second dictionary.\n",
    "        \n",
    "    Returns:\n",
    "        dict: The merged dictionary.\n",
    "    \"\"\"\n",
    "    return {**dict1, **dict2}\n",
    "\n",
    "# Example usage:\n",
    "dict1 = {'a': [1,'strg'], 'b': 2}\n",
    "dict2 = {'c': 3, 'd': 4}\n",
    "merged_dict = merge_dictionaries(dict1, dict2)\n",
    "print(\"Merged dictionary:\", merged_dict)"
   ]
  },
  {
   "cell_type": "code",
   "execution_count": 19,
   "id": "06cff72a",
   "metadata": {},
   "outputs": [
    {
     "name": "stdout",
     "output_type": "stream",
     "text": [
      "Flat dictionary: {'a': 1, 'b': 2, 'c': 3}\n"
     ]
    }
   ],
   "source": [
    "def key_values_list_to_dict(key_values_list):\n",
    "    \"\"\"\n",
    "    Function to convert a list of key-value pairs to a flat dictionary.\n",
    "    \n",
    "    Parameters:\n",
    "        key_values_list (list): The input list of key-value pairs.\n",
    "        \n",
    "    Returns:\n",
    "        dict: The flat dictionary created from the key-values list.\n",
    "    \"\"\"\n",
    "    flat_dict = {}\n",
    "    for pair in key_values_list:\n",
    "        key, value = pair\n",
    "        flat_dict[key] = value\n",
    "    return flat_dict\n",
    "\n",
    "# Example usage:\n",
    "key_values_list = [('a', 1), ('b', 2), ('c', 3)]\n",
    "flat_dict = key_values_list_to_dict(key_values_list)\n",
    "print(\"Flat dictionary:\", flat_dict)"
   ]
  },
  {
   "cell_type": "code",
   "execution_count": 35,
   "id": "51ae6028",
   "metadata": {},
   "outputs": [
    {
     "name": "stdout",
     "output_type": "stream",
     "text": [
      "OrderedDict([('h', 0), ('e', 0), ('l', 0), ('o', 0)])\n",
      "Order of characters matches the pattern: False\n"
     ]
    }
   ],
   "source": [
    "from collections import OrderedDict\n",
    "\n",
    "def check_order_of_characters(input_string, pattern):\n",
    "    \"\"\"\n",
    "    Function to check if the order of characters in a string matches a given pattern.\n",
    "    \n",
    "    Parameters:\n",
    "        input_string (str): The input string to be checked.\n",
    "        pattern (str): The pattern to be matched.\n",
    "        \n",
    "    Returns:\n",
    "        bool: True if the order of characters in the string matches the pattern, False otherwise.\n",
    "    \"\"\"\n",
    "    # Create an OrderedDict to store the occurrence of characters in the string\n",
    "    char_occurrence = OrderedDict.fromkeys(input_string, 0)\n",
    "    print(char_occurrence)\n",
    "    \n",
    "    # Iterate through each character in the input string\n",
    "    for char in input_string:\n",
    "        char_occurrence[char] += 1\n",
    "    \n",
    "    # Concatenate the keys of the OrderedDict\n",
    "    # If the concatenated string matches the pattern, return True; otherwise, return False\n",
    "    return ''.join(char_occurrence.keys()) == pattern\n",
    "\n",
    "# Example usage:\n",
    "input_string = \"hello\"\n",
    "pattern = \"hlo\"\n",
    "result = check_order_of_characters(input_string, pattern)\n",
    "print(\"Order of characters matches the pattern:\", result)"
   ]
  },
  {
   "cell_type": "code",
   "execution_count": 37,
   "id": "fec22358",
   "metadata": {},
   "outputs": [
    {
     "name": "stdout",
     "output_type": "stream",
     "text": [
      "Sorted dictionary by key: {'a': 1, 'ba': 2, 'bc': 3}\n"
     ]
    }
   ],
   "source": [
    "def sort_dict_by_key(dictionary):\n",
    "    \"\"\"\n",
    "    Function to sort a dictionary by its keys.\n",
    "    \n",
    "    Parameters:\n",
    "        dictionary (dict): The input dictionary.\n",
    "        \n",
    "    Returns:\n",
    "        dict: The sorted dictionary by keys.\n",
    "    \"\"\"\n",
    "    return dict(sorted(dictionary.items()))\n",
    "\n",
    "# Example usage:\n",
    "my_dict = {'ba': 2, 'a': 1, 'bc': 3}\n",
    "sorted_dict_by_key = sort_dict_by_key(my_dict)\n",
    "print(\"Sorted dictionary by key:\", sorted_dict_by_key)"
   ]
  },
  {
   "cell_type": "code",
   "execution_count": 40,
   "id": "89affa3b",
   "metadata": {},
   "outputs": [
    {
     "name": "stdout",
     "output_type": "stream",
     "text": [
      "Sorted dictionary by value: {'a': 1, 'z': 2, 'c': 3}\n"
     ]
    }
   ],
   "source": [
    "def sort_dict_by_value(dictionary):\n",
    "    \"\"\"\n",
    "    Function to sort a dictionary by its values.\n",
    "    \n",
    "    Parameters:\n",
    "        dictionary (dict): The input dictionary.\n",
    "        \n",
    "    Returns:\n",
    "        dict: The sorted dictionary by values.\n",
    "    \"\"\"\n",
    "    return dict(sorted(dictionary.items(), key=lambda item: item[1]))\n",
    "\n",
    "# Example usage:\n",
    "my_dict = {'z': 2, 'a': 1, 'c': 3}\n",
    "sorted_dict_by_value = sort_dict_by_value(my_dict)\n",
    "print(\"Sorted dictionary by value:\", sorted_dict_by_value)"
   ]
  }
 ],
 "metadata": {
  "kernelspec": {
   "display_name": "Python 3 (ipykernel)",
   "language": "python",
   "name": "python3"
  },
  "language_info": {
   "codemirror_mode": {
    "name": "ipython",
    "version": 3
   },
   "file_extension": ".py",
   "mimetype": "text/x-python",
   "name": "python",
   "nbconvert_exporter": "python",
   "pygments_lexer": "ipython3",
   "version": "3.8.10"
  }
 },
 "nbformat": 4,
 "nbformat_minor": 5
}
