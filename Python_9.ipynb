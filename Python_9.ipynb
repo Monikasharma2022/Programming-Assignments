{
 "cells": [
  {
   "cell_type": "code",
   "execution_count": null,
   "id": "1f1af561",
   "metadata": {},
   "outputs": [],
   "source": []
  },
  {
   "cell_type": "code",
   "execution_count": 3,
   "id": "1b57ac57",
   "metadata": {},
   "outputs": [
    {
     "name": "stdout",
     "output_type": "stream",
     "text": [
      "89 is a Disarium number.\n"
     ]
    }
   ],
   "source": [
    "def is_disarium(number):\n",
    "    # Convert the number to a string to iterate over its digits\n",
    "    num_str = str(number)\n",
    "    length = len(num_str)\n",
    "    \n",
    "    # Calculate the sum of digits powered with their respective positions\n",
    "    total = sum(int(digit) ** (index + 1) for index, digit in enumerate(num_str))\n",
    "    \n",
    "    # Check if the sum equals the original number\n",
    "    return total == number\n",
    "\n",
    "# Example usage\n",
    "number = 89\n",
    "\n",
    "if is_disarium(number):\n",
    "    print(f\"{number} is a Disarium number.\")\n",
    "else:\n",
    "    print(f\"{number} is not a Disarium number.\")"
   ]
  },
  {
   "cell_type": "code",
   "execution_count": 2,
   "id": "4be2acec",
   "metadata": {},
   "outputs": [
    {
     "name": "stdout",
     "output_type": "stream",
     "text": [
      "Disarium numbers between 1 and 100:\n",
      "1\n",
      "2\n",
      "3\n",
      "4\n",
      "5\n",
      "6\n",
      "7\n",
      "8\n",
      "9\n",
      "89\n"
     ]
    }
   ],
   "source": [
    "# A Disarium number is a number defined by the sum of its digits powered with their respective positions. For example, \n",
    "# 89 is a Disarium number.\n",
    "\n",
    "def is_disarium(number):\n",
    "    # Convert the number to a string to iterate over its digits\n",
    "    num_str = str(number)\n",
    "    length = len(num_str)\n",
    "    \n",
    "    # Calculate the sum of digits powered with their respective positions\n",
    "    total = sum(int(digit) ** (index + 1) for index, digit in enumerate(num_str))\n",
    "    \n",
    "    # Check if the sum equals the original number\n",
    "    return total == number\n",
    "\n",
    "# Iterate through numbers from 1 to 100 and check if they are Disarium numbers\n",
    "print(\"Disarium numbers between 1 and 100:\")\n",
    "for num in range(1, 101):\n",
    "    if is_disarium(num):\n",
    "        print(num)"
   ]
  },
  {
   "cell_type": "code",
   "execution_count": 4,
   "id": "c718b20e",
   "metadata": {},
   "outputs": [
    {
     "name": "stdout",
     "output_type": "stream",
     "text": [
      "19 is a Happy number.\n"
     ]
    }
   ],
   "source": [
    "def is_happy_number(number):\n",
    "    def get_next(n):\n",
    "        # Calculate the sum of the squares of the digits\n",
    "        total_sum = 0\n",
    "        while n > 0:\n",
    "            n, digit = divmod(n, 10)\n",
    "            total_sum += digit ** 2\n",
    "        return total_sum\n",
    "\n",
    "    seen = set()\n",
    "    while number != 1 and number not in seen:\n",
    "        seen.add(number)\n",
    "        number = get_next(number)\n",
    "    return number == 1\n",
    "\n",
    "# Example usage\n",
    "number = 19\n",
    "\n",
    "if is_happy_number(number):\n",
    "    print(f\"{number} is a Happy number.\")\n",
    "else:\n",
    "    print(f\"{number} is not a Happy number.\")\n"
   ]
  },
  {
   "cell_type": "code",
   "execution_count": 1,
   "id": "b0c44b11",
   "metadata": {},
   "outputs": [
    {
     "name": "stdout",
     "output_type": "stream",
     "text": [
      "Happy numbers between 1 and 100:\n",
      "1\n",
      "7\n",
      "10\n",
      "13\n",
      "19\n",
      "23\n",
      "28\n",
      "31\n",
      "32\n",
      "44\n",
      "49\n",
      "68\n",
      "70\n",
      "79\n",
      "82\n",
      "86\n",
      "91\n",
      "94\n",
      "97\n",
      "100\n"
     ]
    }
   ],
   "source": [
    "def is_happy_number(number):\n",
    "    def get_next(n):\n",
    "        # Calculate the sum of the squares of the digits\n",
    "        total_sum = 0\n",
    "        while n > 0:\n",
    "            n, digit = divmod(n, 10)\n",
    "            total_sum += digit ** 2\n",
    "        return total_sum\n",
    "\n",
    "    seen = set()\n",
    "    while number != 1 and number not in seen:\n",
    "        seen.add(number)\n",
    "        number = get_next(number)\n",
    "    return number == 1\n",
    "\n",
    "# Iterate through numbers from 1 to 100 and print happy numbers\n",
    "print(\"Happy numbers between 1 and 100:\")\n",
    "for num in range(1, 101):\n",
    "    if is_happy_number(num):\n",
    "        print(num)\n"
   ]
  },
  {
   "cell_type": "code",
   "execution_count": 6,
   "id": "42eaf538",
   "metadata": {},
   "outputs": [
    {
     "name": "stdout",
     "output_type": "stream",
     "text": [
      "18 is a Harshad number.\n"
     ]
    }
   ],
   "source": [
    "def is_harshad_number(number):\n",
    "    # Calculate the sum of the digits\n",
    "    digit_sum = sum(int(digit) for digit in str(number))\n",
    "    \n",
    "    # Check if the number is divisible by the sum of its digits\n",
    "    return number % digit_sum == 0\n",
    "\n",
    "# Example usage\n",
    "number = 18\n",
    "\n",
    "if is_harshad_number(number):\n",
    "    print(f\"{number} is a Harshad number.\")\n",
    "else:\n",
    "    print(f\"{number} is not a Harshad number.\")\n"
   ]
  },
  {
   "cell_type": "code",
   "execution_count": 5,
   "id": "037fed70",
   "metadata": {},
   "outputs": [
    {
     "name": "stdout",
     "output_type": "stream",
     "text": [
      "Pronic numbers between 1 and 100:\n",
      "2\n",
      "6\n",
      "12\n",
      "20\n",
      "30\n",
      "42\n",
      "56\n",
      "72\n",
      "90\n"
     ]
    }
   ],
   "source": [
    "def is_pronic(number):\n",
    "    # Check if the number is the product of two consecutive integers\n",
    "    for i in range(1, int(number ** 0.5) + 1):\n",
    "        if i * (i + 1) == number:\n",
    "            return True\n",
    "    return False\n",
    "\n",
    "# Iterate through numbers from 1 to 100 and print pronic numbers\n",
    "print(\"Pronic numbers between 1 and 100:\")\n",
    "for num in range(1, 101):\n",
    "    if is_pronic(num):\n",
    "        print(num)\n"
   ]
  },
  {
   "cell_type": "code",
   "execution_count": null,
   "id": "dc2d8dee",
   "metadata": {},
   "outputs": [],
   "source": []
  },
  {
   "cell_type": "code",
   "execution_count": null,
   "id": "24ceee89",
   "metadata": {},
   "outputs": [],
   "source": []
  },
  {
   "cell_type": "code",
   "execution_count": null,
   "id": "bbb71d1c",
   "metadata": {},
   "outputs": [],
   "source": []
  }
 ],
 "metadata": {
  "kernelspec": {
   "display_name": "Python 3 (ipykernel)",
   "language": "python",
   "name": "python3"
  },
  "language_info": {
   "codemirror_mode": {
    "name": "ipython",
    "version": 3
   },
   "file_extension": ".py",
   "mimetype": "text/x-python",
   "name": "python",
   "nbconvert_exporter": "python",
   "pygments_lexer": "ipython3",
   "version": "3.8.10"
  }
 },
 "nbformat": 4,
 "nbformat_minor": 5
}
