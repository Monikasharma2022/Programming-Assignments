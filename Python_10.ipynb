{
 "cells": [
  {
   "cell_type": "code",
   "execution_count": null,
   "id": "3bbbb649",
   "metadata": {},
   "outputs": [],
   "source": [
    "# 1. Write a Python program to find sum of elements in list?\n",
    "# 2. Write a Python program to Multiply all numbers in the list?\n",
    "# 3. Write a Python program to find smallest number in a list?\n",
    "# 4. Write a Python program to find largest number in a list?\n",
    "# 5. Write a Python program to find second largest number in a list?\n",
    "# 6. Write a Python program to find N largest elements from a list?\n",
    "# 7. Write a Python program to print even numbers in a list?\n",
    "# 8. Write a Python program to print odd numbers in a List?\n",
    "# 9. Write a Python program to Remove empty List from List?\n",
    "# 10. Write a Python program to Cloning or Copying a list?\n",
    "# 11. Write a Python program to Count occurrences of an element in a list?"
   ]
  },
  {
   "cell_type": "code",
   "execution_count": 1,
   "id": "42374df4",
   "metadata": {},
   "outputs": [
    {
     "name": "stdout",
     "output_type": "stream",
     "text": [
      "Sum of elements in the list: 15\n"
     ]
    }
   ],
   "source": [
    "def sum_of_list_elements(lst):\n",
    "    \"\"\"\n",
    "    Function to find the sum of elements in a list.\n",
    "    \n",
    "    Parameters:\n",
    "        lst (list): The input list of numbers.\n",
    "        \n",
    "    Returns:\n",
    "        int: The sum of all elements in the list.\n",
    "    \"\"\"\n",
    "    total = 0\n",
    "    for num in lst:\n",
    "        total += num\n",
    "    return total\n",
    "\n",
    "# Example usage:\n",
    "my_list = [1, 2, 3, 4, 5]\n",
    "print(\"Sum of elements in the list:\", sum_of_list_elements(my_list))"
   ]
  },
  {
   "cell_type": "code",
   "execution_count": 2,
   "id": "f88af8bc",
   "metadata": {},
   "outputs": [
    {
     "name": "stdout",
     "output_type": "stream",
     "text": [
      "Product of elements in the list: 120\n"
     ]
    }
   ],
   "source": [
    "def multiply_list_elements(lst):\n",
    "    \"\"\"\n",
    "    Function to multiply all numbers in a list.\n",
    "    \n",
    "    Parameters:\n",
    "        lst (list): The input list of numbers.\n",
    "        \n",
    "    Returns:\n",
    "        int: The product of all elements in the list.\n",
    "    \"\"\"\n",
    "    result = 1\n",
    "    for num in lst:\n",
    "        result *= num\n",
    "    return result\n",
    "\n",
    "# Example usage:\n",
    "my_list = [1, 2, 3, 4, 5]\n",
    "print(\"Product of elements in the list:\", multiply_list_elements(my_list))"
   ]
  },
  {
   "cell_type": "code",
   "execution_count": 3,
   "id": "ee98adc1",
   "metadata": {},
   "outputs": [
    {
     "name": "stdout",
     "output_type": "stream",
     "text": [
      "Smallest number in the list: 2\n"
     ]
    }
   ],
   "source": [
    "def find_smallest_number(lst):\n",
    "    \"\"\"\n",
    "    Function to find the smallest number in a list.\n",
    "    \n",
    "    Parameters:\n",
    "        lst (list): The input list of numbers.\n",
    "        \n",
    "    Returns:\n",
    "        int: The smallest number in the list.\n",
    "    \"\"\"\n",
    "    if len(lst) == 0:\n",
    "        return None\n",
    "    \n",
    "    smallest = lst[0]\n",
    "    for num in lst:\n",
    "        if num < smallest:\n",
    "            smallest = num\n",
    "    return smallest\n",
    "\n",
    "# Example usage:\n",
    "my_list = [3, 7, 2, 10, 5]\n",
    "print(\"Smallest number in the list:\", find_smallest_number(my_list))"
   ]
  },
  {
   "cell_type": "code",
   "execution_count": 4,
   "id": "400422e8",
   "metadata": {},
   "outputs": [
    {
     "name": "stdout",
     "output_type": "stream",
     "text": [
      "Largest number in the list: 10\n"
     ]
    }
   ],
   "source": [
    "def find_largest_number(lst):\n",
    "    \"\"\"\n",
    "    Function to find the largest number in a list.\n",
    "    \n",
    "    Parameters:\n",
    "        lst (list): The input list of numbers.\n",
    "        \n",
    "    Returns:\n",
    "        int: The largest number in the list.\n",
    "    \"\"\"\n",
    "    if len(lst) == 0:\n",
    "        return None\n",
    "    \n",
    "    largest = lst[0]\n",
    "    for num in lst:\n",
    "        if num > largest:\n",
    "            largest = num\n",
    "    return largest\n",
    "\n",
    "# Example usage:\n",
    "my_list = [3, 7, 2, 10, 5]\n",
    "print(\"Largest number in the list:\", find_largest_number(my_list))"
   ]
  },
  {
   "cell_type": "code",
   "execution_count": 8,
   "id": "17b8ed8f",
   "metadata": {},
   "outputs": [
    {
     "name": "stdout",
     "output_type": "stream",
     "text": [
      "Second largest number in the list: 10\n"
     ]
    }
   ],
   "source": [
    "def find_second_largest(lst):\n",
    "    \"\"\"\n",
    "    Function to find the second largest number in a list.\n",
    "    \n",
    "    Parameters:\n",
    "        lst (list): The input list of numbers.\n",
    "        \n",
    "    Returns:\n",
    "        int: The second largest number in the list.\n",
    "    \"\"\"\n",
    "    if len(lst) < 2:\n",
    "        return None\n",
    "    \n",
    "    largest = max(lst[0], lst[1])\n",
    "    second_largest = min(lst[0], lst[1])\n",
    "    \n",
    "    for num in lst[2:]:\n",
    "        if num > largest:\n",
    "            second_largest = largest\n",
    "            largest = num\n",
    "        elif num > second_largest:\n",
    "            second_largest = num\n",
    "    \n",
    "    return second_largest\n",
    "\n",
    "# Example usage:\n",
    "my_list = [3, 75, 2, 10, 5]\n",
    "print(\"Second largest number in the list:\", find_second_largest(my_list))"
   ]
  },
  {
   "cell_type": "code",
   "execution_count": 9,
   "id": "94a08828",
   "metadata": {},
   "outputs": [
    {
     "name": "stdout",
     "output_type": "stream",
     "text": [
      "3 largest elements in the list: [10, 7, 5]\n"
     ]
    }
   ],
   "source": [
    "import heapq\n",
    "\n",
    "def find_N_largest(lst, N):\n",
    "    \"\"\"\n",
    "    Function to find the N largest elements from a list.\n",
    "    \n",
    "    Parameters:\n",
    "        lst (list): The input list of numbers.\n",
    "        N (int): The number of largest elements to find.\n",
    "        \n",
    "    Returns:\n",
    "        list: A list containing the N largest elements from the input list.\n",
    "    \"\"\"\n",
    "    if len(lst) < N:\n",
    "        return None\n",
    "\n",
    "    return heapq.nlargest(N, lst)\n",
    "\n",
    "# Example usage:\n",
    "my_list = [3, 7, 2, 10, 5]\n",
    "N = 3\n",
    "print(f\"{N} largest elements in the list:\", find_N_largest(my_list, N))"
   ]
  },
  {
   "cell_type": "code",
   "execution_count": 10,
   "id": "7ce43cfc",
   "metadata": {},
   "outputs": [
    {
     "name": "stdout",
     "output_type": "stream",
     "text": [
      "Even numbers in the list: [2, 4, 6, 8, 10]\n"
     ]
    }
   ],
   "source": [
    "def print_even_numbers(lst):\n",
    "    \"\"\"\n",
    "    Function to print even numbers in a list.\n",
    "    \n",
    "    Parameters:\n",
    "        lst (list): The input list of numbers.\n",
    "    \"\"\"\n",
    "    even_numbers = [num for num in lst if num % 2 == 0]\n",
    "    print(\"Even numbers in the list:\", even_numbers)\n",
    "\n",
    "# Example usage:\n",
    "my_list = [1, 2, 3, 4, 5, 6, 7, 8, 9, 10]\n",
    "print_even_numbers(my_list)"
   ]
  },
  {
   "cell_type": "code",
   "execution_count": 11,
   "id": "c2ee56eb",
   "metadata": {},
   "outputs": [
    {
     "name": "stdout",
     "output_type": "stream",
     "text": [
      "Even numbers in the list: [1, 3, 5, 7, 9]\n"
     ]
    }
   ],
   "source": [
    "def print_even_numbers(lst):\n",
    "    \"\"\"\n",
    "    Function to print even numbers in a list.\n",
    "    \n",
    "    Parameters:\n",
    "        lst (list): The input list of numbers.\n",
    "    \"\"\"\n",
    "    even_numbers = [num for num in lst if num % 2 != 0]\n",
    "    print(\"Even numbers in the list:\", even_numbers)\n",
    "\n",
    "# Example usage:\n",
    "my_list = [1, 2, 3, 4, 5, 6, 7, 8, 9, 10]\n",
    "print_even_numbers(my_list)"
   ]
  },
  {
   "cell_type": "code",
   "execution_count": 12,
   "id": "ef5ca8a6",
   "metadata": {},
   "outputs": [
    {
     "name": "stdout",
     "output_type": "stream",
     "text": [
      "Original list: [1, 2, [], 3, [], [], 4, 5, [], 6]\n",
      "List after removing empty lists: [1, 2, 3, 4, 5, 6]\n"
     ]
    }
   ],
   "source": [
    "def remove_empty_lists(lst):\n",
    "    \"\"\"\n",
    "    Function to remove empty lists from a list.\n",
    "    \n",
    "    Parameters:\n",
    "        lst (list): The input list containing sublists.\n",
    "        \n",
    "    Returns:\n",
    "        list: The input list with empty lists removed.\n",
    "    \"\"\"\n",
    "    return [sublist for sublist in lst if sublist]\n",
    "\n",
    "# Example usage:\n",
    "my_list = [1, 2, [], 3, [], [], 4, 5, [], 6]\n",
    "print(\"Original list:\", my_list)\n",
    "result_list = remove_empty_lists(my_list)\n",
    "print(\"List after removing empty lists:\", result_list)"
   ]
  },
  {
   "cell_type": "code",
   "execution_count": 20,
   "id": "d94b2340",
   "metadata": {},
   "outputs": [
    {
     "name": "stdout",
     "output_type": "stream",
     "text": [
      "False\n"
     ]
    }
   ],
   "source": [
    "a= []\n",
    "print(bool(a))"
   ]
  },
  {
   "cell_type": "code",
   "execution_count": 25,
   "id": "7c59cbd3",
   "metadata": {},
   "outputs": [
    {
     "name": "stdout",
     "output_type": "stream",
     "text": [
      "Original list: [1, 2, 3, 4, 5]\n",
      "Cloned list: [1, 2, 3, 4, 5]\n"
     ]
    }
   ],
   "source": [
    "def clone_list(lst):\n",
    "    \"\"\"\n",
    "    Function to clone a list using slice notation.\n",
    "    \n",
    "    Parameters:\n",
    "        lst (list): The input list to be cloned.\n",
    "        \n",
    "    Returns:\n",
    "        list: The cloned list.\n",
    "    \"\"\"\n",
    "    return lst[:]\n",
    "\n",
    "# Example usage:\n",
    "original_list = [1, 2, 3, 4, 5]\n",
    "cloned_list = clone_list(original_list)\n",
    "print(\"Original list:\", original_list)\n",
    "print(\"Cloned list:\", cloned_list)"
   ]
  },
  {
   "cell_type": "code",
   "execution_count": 26,
   "id": "cf48dd20",
   "metadata": {},
   "outputs": [
    {
     "name": "stdout",
     "output_type": "stream",
     "text": [
      "The element 2 occurs 3 times in the list.\n"
     ]
    }
   ],
   "source": [
    "def count_occurrences(lst, element):\n",
    "    \"\"\"\n",
    "    Function to count occurrences of an element in a list.\n",
    "    \n",
    "    Parameters:\n",
    "        lst (list): The input list.\n",
    "        element: The element whose occurrences are to be counted.\n",
    "        \n",
    "    Returns:\n",
    "        int: The number of occurrences of the element in the list.\n",
    "    \"\"\"\n",
    "    return lst.count(element)\n",
    "\n",
    "# Example usage:\n",
    "my_list = [1, 2, 3, 4, 2, 2, 5]\n",
    "element_to_count = 2\n",
    "occurrences = count_occurrences(my_list, element_to_count)\n",
    "print(f\"The element {element_to_count} occurs {occurrences} times in the list.\")"
   ]
  },
  {
   "cell_type": "code",
   "execution_count": 28,
   "id": "a007ee5d",
   "metadata": {},
   "outputs": [
    {
     "data": {
      "text/plain": [
       "3"
      ]
     },
     "execution_count": 28,
     "metadata": {},
     "output_type": "execute_result"
    }
   ],
   "source": [
    "my_list.count(2)"
   ]
  },
  {
   "cell_type": "code",
   "execution_count": 29,
   "id": "ec4a5db2",
   "metadata": {},
   "outputs": [
    {
     "name": "stdout",
     "output_type": "stream",
     "text": [
      "The element 2 occurs 3 times in the list.\n"
     ]
    }
   ],
   "source": [
    "def count_occurrences(lst, element):\n",
    "    \"\"\"\n",
    "    Function to count occurrences of an element in a list.\n",
    "    \n",
    "    Parameters:\n",
    "        lst (list): The input list.\n",
    "        element: The element whose occurrences are to be counted.\n",
    "        \n",
    "    Returns:\n",
    "        int: The number of occurrences of the element in the list.\n",
    "    \"\"\"\n",
    "    return lst.count(element)\n",
    "\n",
    "# Example usage:\n",
    "my_list = [1, 2, 3, 4, 2, 2, 5]\n",
    "element_to_count = 2\n",
    "occurrences = count_occurrences(my_list, element_to_count)\n",
    "print(f\"The element {element_to_count} occurs {occurrences} times in the list.\")"
   ]
  }
 ],
 "metadata": {
  "kernelspec": {
   "display_name": "Python 3 (ipykernel)",
   "language": "python",
   "name": "python3"
  },
  "language_info": {
   "codemirror_mode": {
    "name": "ipython",
    "version": 3
   },
   "file_extension": ".py",
   "mimetype": "text/x-python",
   "name": "python",
   "nbconvert_exporter": "python",
   "pygments_lexer": "ipython3",
   "version": "3.8.10"
  }
 },
 "nbformat": 4,
 "nbformat_minor": 5
}
