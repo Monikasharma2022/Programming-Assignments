{
 "cells": [
  {
   "cell_type": "code",
   "execution_count": null,
   "id": "4ba5d989",
   "metadata": {},
   "outputs": [],
   "source": [
    "# 1. Write a Python Program to Find the Factorial of a Number?\n",
    "# 2. Write a Python Program to Display the multiplication Table?\n",
    "# 3. Write a Python Program to Print the Fibonacci sequence?\n",
    "# 4. Write a Python Program to Check Armstrong Number?\n",
    "# 5. Write a Python Program to Find Armstrong Number in an Interval?\n",
    "# 6. Write a Python Program to Find the Sum of Natural Numbers?"
   ]
  },
  {
   "cell_type": "code",
   "execution_count": 1,
   "id": "756b5bfa",
   "metadata": {},
   "outputs": [
    {
     "name": "stdout",
     "output_type": "stream",
     "text": [
      "Enter a number: 5\n",
      "Factorial of 5 is 120\n"
     ]
    }
   ],
   "source": [
    "def factorial(n):\n",
    "    if n < 0:\n",
    "        return \"Factorial is not defined for negative numbers.\"\n",
    "    elif n == 0:\n",
    "        return 1\n",
    "    else:\n",
    "        result = 1\n",
    "        for i in range(1, n + 1):\n",
    "            result *= i\n",
    "        return result\n",
    "\n",
    "# Example usage\n",
    "number = int(input(\"Enter a number: \"))\n",
    "result = factorial(number)\n",
    "print(\"Factorial of\", number, \"is\", result)\n"
   ]
  },
  {
   "cell_type": "code",
   "execution_count": 2,
   "id": "a621648c",
   "metadata": {},
   "outputs": [
    {
     "name": "stdout",
     "output_type": "stream",
     "text": [
      "Enter a number: 4\n",
      "Multiplication Table for 4 :\n",
      "4 x 1 = 4\n",
      "4 x 2 = 8\n",
      "4 x 3 = 12\n",
      "4 x 4 = 16\n",
      "4 x 5 = 20\n",
      "4 x 6 = 24\n",
      "4 x 7 = 28\n",
      "4 x 8 = 32\n",
      "4 x 9 = 36\n",
      "4 x 10 = 40\n"
     ]
    }
   ],
   "source": [
    "def display_multiplication_table(number):\n",
    "    print(\"Multiplication Table for\", number, \":\")\n",
    "    for i in range(1, 11):\n",
    "        print(number, \"x\", i, \"=\", number * i)\n",
    "\n",
    "# Example usage\n",
    "number = int(input(\"Enter a number: \"))\n",
    "display_multiplication_table(number)\n"
   ]
  },
  {
   "cell_type": "code",
   "execution_count": 3,
   "id": "db8b7b84",
   "metadata": {},
   "outputs": [
    {
     "name": "stdout",
     "output_type": "stream",
     "text": [
      "Enter the number of terms: 8\n",
      "Fibonacci sequence:\n",
      "[0, 1, 1, 2, 3, 5, 8, 13]\n"
     ]
    }
   ],
   "source": [
    "def fibonacci_sequence(n):\n",
    "    fib_sequence = [0, 1]  # Initialize Fibonacci sequence with first two terms\n",
    "    while len(fib_sequence) < n:\n",
    "        next_term = fib_sequence[-1] + fib_sequence[-2]  # Calculate next term\n",
    "        fib_sequence.append(next_term)  # Add next term to sequence\n",
    "    return fib_sequence\n",
    "\n",
    "# Example usage\n",
    "terms = int(input(\"Enter the number of terms: \"))\n",
    "if terms <= 0:\n",
    "    print(\"Number of terms should be positive.\")\n",
    "else:\n",
    "    fib_sequence = fibonacci_sequence(terms)\n",
    "    print(\"Fibonacci sequence:\")\n",
    "    print(fib_sequence)\n"
   ]
  },
  {
   "cell_type": "code",
   "execution_count": 4,
   "id": "4ac1169a",
   "metadata": {},
   "outputs": [
    {
     "name": "stdout",
     "output_type": "stream",
     "text": [
      "Enter a number: 153\n",
      "153 is an Armstrong number.\n"
     ]
    }
   ],
   "source": [
    "def is_armstrong_number(number):\n",
    "    # Convert the number to a string to determine the number of digits\n",
    "    num_str = str(number)\n",
    "    num_digits = len(num_str)\n",
    "\n",
    "    # Calculate the sum of digits raised to the power of the number of digits\n",
    "    total = sum(int(digit) ** num_digits for digit in num_str)\n",
    "\n",
    "    # Check if the total is equal to the original number\n",
    "    return total == number\n",
    "\n",
    "# Example usage\n",
    "number = int(input(\"Enter a number: \"))\n",
    "if is_armstrong_number(number):\n",
    "    print(number, \"is an Armstrong number.\")\n",
    "else:\n",
    "    print(number, \"is not an Armstrong number.\")"
   ]
  },
  {
   "cell_type": "code",
   "execution_count": 5,
   "id": "1cd1427b",
   "metadata": {},
   "outputs": [
    {
     "name": "stdout",
     "output_type": "stream",
     "text": [
      "Enter the start of the interval: 1\n",
      "Enter the end of the interval: 1000\n",
      "Armstrong numbers in the interval [ 1 - 1000 ]:\n",
      "[1, 2, 3, 4, 5, 6, 7, 8, 9, 153, 370, 371, 407]\n"
     ]
    }
   ],
   "source": [
    "def is_armstrong_number(number):\n",
    "    # Convert the number to a string to determine the number of digits\n",
    "    num_str = str(number)\n",
    "    num_digits = len(num_str)\n",
    "\n",
    "    # Calculate the sum of digits raised to the power of the number of digits\n",
    "    total = sum(int(digit) ** num_digits for digit in num_str)\n",
    "\n",
    "    # Check if the total is equal to the original number\n",
    "    return total == number\n",
    "\n",
    "def find_armstrong_numbers(start, end):\n",
    "    armstrong_numbers = []\n",
    "    for num in range(start, end + 1):\n",
    "        if is_armstrong_number(num):\n",
    "            armstrong_numbers.append(num)\n",
    "    return armstrong_numbers\n",
    "\n",
    "# Example usage\n",
    "start = int(input(\"Enter the start of the interval: \"))\n",
    "end = int(input(\"Enter the end of the interval: \"))\n",
    "\n",
    "if start > end:\n",
    "    print(\"Invalid interval. Start should be less than or equal to end.\")\n",
    "else:\n",
    "    print(\"Armstrong numbers in the interval [\", start, \"-\", end, \"]:\")\n",
    "    armstrong_nums = find_armstrong_numbers(start, end)\n",
    "    print(armstrong_nums)\n"
   ]
  },
  {
   "cell_type": "code",
   "execution_count": 6,
   "id": "7e685267",
   "metadata": {},
   "outputs": [
    {
     "name": "stdout",
     "output_type": "stream",
     "text": [
      "Enter a positive integer: 15\n",
      "Sum of first 15 natural numbers: 120\n"
     ]
    }
   ],
   "source": [
    "def sum_of_natural_numbers(n):\n",
    "    return (n * (n + 1)) // 2\n",
    "\n",
    "# Example usage\n",
    "number = int(input(\"Enter a positive integer: \"))\n",
    "if number < 1:\n",
    "    print(\"Please enter a positive integer.\")\n",
    "else:\n",
    "    total_sum = sum_of_natural_numbers(number)\n",
    "    print(\"Sum of first\", number, \"natural numbers:\", total_sum)\n"
   ]
  },
  {
   "cell_type": "code",
   "execution_count": null,
   "id": "3516b473",
   "metadata": {},
   "outputs": [],
   "source": []
  },
  {
   "cell_type": "code",
   "execution_count": null,
   "id": "4bd574e0",
   "metadata": {},
   "outputs": [],
   "source": []
  }
 ],
 "metadata": {
  "kernelspec": {
   "display_name": "Python 3 (ipykernel)",
   "language": "python",
   "name": "python3"
  },
  "language_info": {
   "codemirror_mode": {
    "name": "ipython",
    "version": 3
   },
   "file_extension": ".py",
   "mimetype": "text/x-python",
   "name": "python",
   "nbconvert_exporter": "python",
   "pygments_lexer": "ipython3",
   "version": "3.8.10"
  }
 },
 "nbformat": 4,
 "nbformat_minor": 5
}
