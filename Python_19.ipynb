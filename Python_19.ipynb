{
 "cells": [
  {
   "cell_type": "code",
   "execution_count": null,
   "id": "50206109",
   "metadata": {},
   "outputs": [],
   "source": [
    "# Question1\n",
    "# Create a function that takes a string and returns a string in which each character is repeated\n",
    "# once.\n",
    "# Examples\n",
    "# double_char(&quot;String&quot;) ➞ &quot;SSttrriinngg&quot;\n",
    "# double_char(&quot;Hello World!&quot;) ➞ &quot;HHeelllloo WWoorrlldd!!&quot;\n",
    "# double_char(&quot;1234!_ &quot;) ➞ &quot;11223344!!__ &quot;\n",
    "\n",
    "# Question2\n",
    "# Create a function that reverses a boolean value and returns the string &quot;boolean expected&quot;\n",
    "# if another variable type is given.\n",
    "# Examples\n",
    "# reverse(True) ➞ False\n",
    "# reverse(False) ➞ True\n",
    "# reverse(0) ➞ &quot;boolean expected&quot;\n",
    "# reverse(None) ➞ &quot;boolean expected&quot;\n",
    "\n",
    "# Question3\n",
    "# Create a function that returns the thickness (in meters) of a piece of paper after folding it n\n",
    "# number of times. The paper starts off with a thickness of 0.5mm.\n",
    "# Examples\n",
    "# num_layers(1) ➞ &quot;0.001m&quot;\n",
    "# # Paper folded once is 1mm (equal to 0.001m)\n",
    "# num_layers(4) ➞ &quot;0.008m&quot;\n",
    "# # Paper folded 4 times is 8mm (equal to 0.008m)\n",
    "# num_layers(21) ➞ &quot;1048.576m&quot;\n",
    "# # Paper folded 21 times is 1048576mm (equal to 1048.576m)\n",
    "\n",
    "# Question4\n",
    "\n",
    "# Create a function that takes a single string as argument and returns an ordered list containing\n",
    "# the indices of all capital letters in the string.\n",
    "# Examples\n",
    "# index_of_caps(&quot;eDaBiT&quot;) ➞ [1, 3, 5]\n",
    "# index_of_caps(&quot;eQuINoX&quot;) ➞ [1, 3, 4, 6]\n",
    "# index_of_caps(&quot;determine&quot;) ➞ []\n",
    "# index_of_caps(&quot;STRIKE&quot;) ➞ [0, 1, 2, 3, 4, 5]\n",
    "# index_of_caps(&quot;sUn&quot;) ➞ [1]\n",
    "\n",
    "# Question5\n",
    "# Using list comprehensions, create a function that finds all even numbers from 1 to the given\n",
    "# number.\n",
    "# Examples\n",
    "# find_even_nums(8) ➞ [2, 4, 6, 8]\n",
    "# find_even_nums(4) ➞ [2, 4]\n",
    "# find_even_nums(2) ➞ [2]"
   ]
  },
  {
   "cell_type": "code",
   "execution_count": 4,
   "id": "3316d10d",
   "metadata": {},
   "outputs": [
    {
     "name": "stdout",
     "output_type": "stream",
     "text": [
      "SSttrriinngg\n",
      "HHeelllloo  WWoorrlldd!!\n",
      "11223344!!__  \n"
     ]
    }
   ],
   "source": [
    "def double_char(string):\n",
    "    result = ''\n",
    "    for char in string:\n",
    "        result += char * 2\n",
    "    return result\n",
    "\n",
    "# Test the function with example inputs\n",
    "print(double_char(\"String\"))       # Output: \"SSttrriinngg\"\n",
    "print(double_char(\"Hello World!\")) # Output: \"HHeelllloo  WWoorrlldd!!\"\n",
    "print(double_char(\"1234!_ \"))      # Output: \"11223344!!__  \""
   ]
  },
  {
   "cell_type": "code",
   "execution_count": 5,
   "id": "94d0bb48",
   "metadata": {},
   "outputs": [
    {
     "name": "stdout",
     "output_type": "stream",
     "text": [
      "False\n",
      "True\n",
      "boolean expected\n",
      "boolean expected\n"
     ]
    }
   ],
   "source": [
    "def reverse(arg):\n",
    "    if isinstance(arg, bool):\n",
    "        return not arg\n",
    "    else:\n",
    "        return \"boolean expected\"\n",
    "\n",
    "# Test the function with example inputs\n",
    "print(reverse(True))    # Output: False\n",
    "print(reverse(False))   # Output: True\n",
    "print(reverse(0))       # Output: \"boolean expected\"\n",
    "print(reverse(None))    # Output: \"boolean expected\""
   ]
  },
  {
   "cell_type": "code",
   "execution_count": 6,
   "id": "2c8e7f04",
   "metadata": {},
   "outputs": [
    {
     "name": "stdout",
     "output_type": "stream",
     "text": [
      "0.001m\n",
      "0.008m\n",
      "1048.576m\n"
     ]
    }
   ],
   "source": [
    "def num_layers(n):\n",
    "    thickness_mm = 0.5 * (2 ** n)  # Calculate the thickness in mm\n",
    "    thickness_m = thickness_mm / 1000  # Convert mm to meters\n",
    "    return \"{:.3f}m\".format(thickness_m)  # Format the result to 3 decimal places and add 'm'\n",
    "\n",
    "# Test the function with example inputs\n",
    "print(num_layers(1))   # Output: \"0.001m\"\n",
    "print(num_layers(4))   # Output: \"0.008m\"\n",
    "print(num_layers(21))  # Output: \"1048.576m\""
   ]
  },
  {
   "cell_type": "code",
   "execution_count": 7,
   "id": "2433e66a",
   "metadata": {},
   "outputs": [
    {
     "name": "stdout",
     "output_type": "stream",
     "text": [
      "[1, 3, 5]\n",
      "[1, 3, 4, 6]\n",
      "[]\n",
      "[0, 1, 2, 3, 4, 5]\n",
      "[1]\n"
     ]
    }
   ],
   "source": [
    "def index_of_caps(word):\n",
    "    indices = [index for index, char in enumerate(word) if char.isupper()]\n",
    "    return indices\n",
    "\n",
    "# Test the function with example inputs\n",
    "print(index_of_caps(\"eDaBiT\"))   # Output: [1, 3, 5]\n",
    "print(index_of_caps(\"eQuINoX\"))  # Output: [1, 3, 4, 6]\n",
    "print(index_of_caps(\"determine\")) # Output: []\n",
    "print(index_of_caps(\"STRIKE\"))    # Output: [0, 1, 2, 3, 4, 5]\n",
    "print(index_of_caps(\"sUn\"))       # Output: [1]"
   ]
  },
  {
   "cell_type": "code",
   "execution_count": 8,
   "id": "3951bec7",
   "metadata": {},
   "outputs": [
    {
     "name": "stdout",
     "output_type": "stream",
     "text": [
      "[2, 4, 6, 8]\n",
      "[2, 4]\n",
      "[2]\n"
     ]
    }
   ],
   "source": [
    "def find_even_nums(n):\n",
    "    return [num for num in range(1, n + 1) if num % 2 == 0]\n",
    "\n",
    "# Test the function with example inputs\n",
    "print(find_even_nums(8))  # Output: [2, 4, 6, 8]\n",
    "print(find_even_nums(4))  # Output: [2, 4]\n",
    "print(find_even_nums(2))  # Output: [2]"
   ]
  },
  {
   "cell_type": "code",
   "execution_count": null,
   "id": "bca99f1f",
   "metadata": {},
   "outputs": [],
   "source": []
  }
 ],
 "metadata": {
  "kernelspec": {
   "display_name": "Python 3 (ipykernel)",
   "language": "python",
   "name": "python3"
  },
  "language_info": {
   "codemirror_mode": {
    "name": "ipython",
    "version": 3
   },
   "file_extension": ".py",
   "mimetype": "text/x-python",
   "name": "python",
   "nbconvert_exporter": "python",
   "pygments_lexer": "ipython3",
   "version": "3.8.10"
  }
 },
 "nbformat": 4,
 "nbformat_minor": 5
}
