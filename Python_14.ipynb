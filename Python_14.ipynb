{
 "cells": [
  {
   "cell_type": "code",
   "execution_count": null,
   "id": "d54a0c28",
   "metadata": {},
   "outputs": [],
   "source": [
    "# Question 1:\n",
    "# Define a class with a generator which can iterate the numbers, which are divisible by\n",
    "# 7, between a given range 0 and n.\n",
    "\n",
    "# Question 2:\n",
    "# Write a program to compute the frequency of the words from the input. The output\n",
    "# should output after sorting the key alphanumerically.\n",
    "# Suppose the following input is supplied to the program:\n",
    "# New to Python or choosing between Python 2 and Python 3? Read Python 2 or\n",
    "# Python 3.\n",
    "# Then, the output should be:\n",
    "# 2:2\n",
    "# 3.:1\n",
    "# 3?:1\n",
    "# New:1\n",
    "# Python:5\n",
    "# Read:1\n",
    "# and:1\n",
    "# between:1\n",
    "# choosing:1\n",
    "# or:2\n",
    "# to:1\n",
    "\n",
    "# Question 3:\n",
    "\n",
    "# Define a class Person and its two child classes: Male and Female. All classes have a\n",
    "# method &quot;getGender&quot; which can print &quot;Male&quot; for Male class and &quot;Female&quot; for Female\n",
    "# class.\n",
    "\n",
    "# Question 4:\n",
    "# Please write a program to generate all sentences where subject is in [&quot;I&quot;, &quot;You&quot;] and\n",
    "# verb is in [&quot;Play&quot;, &quot;Love&quot;] and the object is in [&quot;Hockey&quot;,&quot;Football&quot;].\n",
    "\n",
    "# Question 5:\n",
    "# Please write a program to compress and decompress the string &quot;hello world!hello\n",
    "# world!hello world!hello world!&quot;.\n",
    "\n",
    "# Question 6:\n",
    "# Please write a binary search function which searches an item in a sorted list. The\n",
    "# function should return the index of element to be searched in the list."
   ]
  },
  {
   "cell_type": "code",
   "execution_count": 1,
   "id": "45dc714b",
   "metadata": {},
   "outputs": [
    {
     "name": "stdout",
     "output_type": "stream",
     "text": [
      "0\n",
      "7\n",
      "14\n",
      "21\n",
      "28\n",
      "35\n",
      "42\n",
      "49\n"
     ]
    }
   ],
   "source": [
    "class DivisibleBySeven:\n",
    "    def __init__(self, n):\n",
    "        self.n = n\n",
    "    \n",
    "    def divisible_by_seven_generator(self):\n",
    "        for i in range(self.n + 1):\n",
    "            if i % 7 == 0:\n",
    "                yield i\n",
    "\n",
    "# Example usage:\n",
    "n = 50\n",
    "divisible_seven = DivisibleBySeven(n)\n",
    "for num in divisible_seven.divisible_by_seven_generator():\n",
    "    print(num)"
   ]
  },
  {
   "cell_type": "code",
   "execution_count": 2,
   "id": "146bd8c5",
   "metadata": {},
   "outputs": [
    {
     "name": "stdout",
     "output_type": "stream",
     "text": [
      "Enter a sentence: New to Python or choosing between Python 2 and Python 3? Read Python 2 or Python 3.\n",
      "2:2\n",
      "3.:1\n",
      "3?:1\n",
      "New:1\n",
      "Python:5\n",
      "Read:1\n",
      "and:1\n",
      "between:1\n",
      "choosing:1\n",
      "or:2\n",
      "to:1\n"
     ]
    }
   ],
   "source": [
    "def word_frequency(sentence):\n",
    "    words = sentence.split()\n",
    "    frequency = {}\n",
    "    for word in words:\n",
    "        frequency[word] = frequency.get(word, 0) + 1\n",
    "    return frequency\n",
    "\n",
    "def main():\n",
    "    sentence = input(\"Enter a sentence: \")\n",
    "    frequency = word_frequency(sentence)\n",
    "    sorted_frequency = sorted(frequency.items())\n",
    "    for word, freq in sorted_frequency:\n",
    "        print(f\"{word}:{freq}\")\n",
    "\n",
    "if __name__ == \"__main__\":\n",
    "    main()"
   ]
  },
  {
   "cell_type": "code",
   "execution_count": 3,
   "id": "f2cbe1d7",
   "metadata": {},
   "outputs": [
    {
     "name": "stdout",
     "output_type": "stream",
     "text": [
      "Male\n",
      "Female\n"
     ]
    }
   ],
   "source": [
    "class Person:\n",
    "    def getGender(self):\n",
    "        pass\n",
    "\n",
    "class Male(Person):\n",
    "    def getGender(self):\n",
    "        print(\"Male\")\n",
    "\n",
    "class Female(Person):\n",
    "    def getGender(self):\n",
    "        print(\"Female\")\n",
    "\n",
    "# Example usage:\n",
    "male = Male()\n",
    "female = Female()\n",
    "\n",
    "male.getGender()  # Output: Male\n",
    "female.getGender()  # Output: Female"
   ]
  },
  {
   "cell_type": "code",
   "execution_count": 4,
   "id": "a272eb17",
   "metadata": {},
   "outputs": [
    {
     "name": "stdout",
     "output_type": "stream",
     "text": [
      "I Play Hockey.\n",
      "I Play Football.\n",
      "I Love Hockey.\n",
      "I Love Football.\n",
      "You Play Hockey.\n",
      "You Play Football.\n",
      "You Love Hockey.\n",
      "You Love Football.\n"
     ]
    }
   ],
   "source": [
    "subjects = [\"I\", \"You\"]\n",
    "verbs = [\"Play\", \"Love\"]\n",
    "objects = [\"Hockey\", \"Football\"]\n",
    "\n",
    "sentences = []\n",
    "\n",
    "for subject in subjects:\n",
    "    for verb in verbs:\n",
    "        for obj in objects:\n",
    "            sentence = f\"{subject} {verb} {obj}.\"\n",
    "            sentences.append(sentence)\n",
    "\n",
    "# Printing all generated sentences\n",
    "for sentence in sentences:\n",
    "    print(sentence)"
   ]
  },
  {
   "cell_type": "code",
   "execution_count": 5,
   "id": "8e795a3f",
   "metadata": {},
   "outputs": [
    {
     "name": "stdout",
     "output_type": "stream",
     "text": [
      "Original string: hello world!hello world!hello world!hello world!\n",
      "Compressed data: b'x\\x9c\\xcbH\\xcd\\xc9\\xc9W(\\xcf/\\xcaIQ\\xcc \\x82\\r\\x00\\xbd[\\x11\\xf5'\n",
      "Decompressed data: hello world!hello world!hello world!hello world!\n"
     ]
    }
   ],
   "source": [
    "import zlib\n",
    "\n",
    "# Define the string\n",
    "original_string = \"hello world!hello world!hello world!hello world!\"\n",
    "\n",
    "# Compress the string\n",
    "compressed_data = zlib.compress(original_string.encode())\n",
    "\n",
    "# Decompress the string\n",
    "decompressed_data = zlib.decompress(compressed_data).decode()\n",
    "\n",
    "# Output the results\n",
    "print(\"Original string:\", original_string)\n",
    "print(\"Compressed data:\", compressed_data)\n",
    "print(\"Decompressed data:\", decompressed_data)"
   ]
  },
  {
   "cell_type": "code",
   "execution_count": 6,
   "id": "c2658bfa",
   "metadata": {},
   "outputs": [
    {
     "name": "stdout",
     "output_type": "stream",
     "text": [
      "Element 15 found at index 7.\n"
     ]
    }
   ],
   "source": [
    "def binary_search(arr, x):\n",
    "    \"\"\"\n",
    "    Perform binary search on a sorted list.\n",
    "\n",
    "    Parameters:\n",
    "    - arr: A sorted list to search in.\n",
    "    - x: The element to search for.\n",
    "\n",
    "    Returns:\n",
    "    - The index of the element if found, otherwise -1.\n",
    "    \"\"\"\n",
    "    low = 0\n",
    "    high = len(arr) - 1\n",
    "\n",
    "    while low <= high:\n",
    "        mid = (low + high) // 2\n",
    "        if arr[mid] == x:\n",
    "            return mid\n",
    "        elif arr[mid] < x:\n",
    "            low = mid + 1\n",
    "        else:\n",
    "            high = mid - 1\n",
    "\n",
    "    return -1  # Element not found\n",
    "\n",
    "# Example usage:\n",
    "sorted_list = [1, 3, 5, 7, 9, 11, 13, 15, 17, 19]\n",
    "x = 15\n",
    "index = binary_search(sorted_list, x)\n",
    "if index != -1:\n",
    "    print(f\"Element {x} found at index {index}.\")\n",
    "else:\n",
    "    print(f\"Element {x} not found in the list.\")"
   ]
  },
  {
   "cell_type": "code",
   "execution_count": null,
   "id": "83e37444",
   "metadata": {},
   "outputs": [],
   "source": []
  },
  {
   "cell_type": "code",
   "execution_count": null,
   "id": "322974ac",
   "metadata": {},
   "outputs": [],
   "source": []
  },
  {
   "cell_type": "code",
   "execution_count": null,
   "id": "8e654bbb",
   "metadata": {},
   "outputs": [],
   "source": []
  },
  {
   "cell_type": "code",
   "execution_count": null,
   "id": "34676ca5",
   "metadata": {},
   "outputs": [],
   "source": []
  }
 ],
 "metadata": {
  "kernelspec": {
   "display_name": "Python 3 (ipykernel)",
   "language": "python",
   "name": "python3"
  },
  "language_info": {
   "codemirror_mode": {
    "name": "ipython",
    "version": 3
   },
   "file_extension": ".py",
   "mimetype": "text/x-python",
   "name": "python",
   "nbconvert_exporter": "python",
   "pygments_lexer": "ipython3",
   "version": "3.8.10"
  }
 },
 "nbformat": 4,
 "nbformat_minor": 5
}
