{
 "cells": [
  {
   "cell_type": "code",
   "execution_count": null,
   "id": "a4de10ea",
   "metadata": {},
   "outputs": [],
   "source": [
    "# Question 1:\n",
    "# Please write a program using generator to print the numbers which can be divisible by 5 and\n",
    "# 7 between 0 and n in comma separated form while n is input by console.\n",
    "# Example:\n",
    "# If the following n is given as input to the program:\n",
    "# 100\n",
    "# Then, the output of the program should be:\n",
    "# 0,35,70\n",
    "\n",
    "# Question 2:\n",
    "# Please write a program using generator to print the even numbers between 0 and n in comma\n",
    "# separated form while n is input by console.\n",
    "# Example:\n",
    "# If the following n is given as input to the program:\n",
    "# 10\n",
    "# Then, the output of the program should be:\n",
    "# 0,2,4,6,8,10\n",
    "\n",
    "# Question 3:\n",
    "# The Fibonacci Sequence is computed based on the following formula:\n",
    "# f(n)=0 if n=0\n",
    "# f(n)=1 if n=1\n",
    "# f(n)=f(n-1)+f(n-2) if n&gt;1\n",
    "# Please write a program using list comprehension to print the Fibonacci Sequence in comma\n",
    "# separated form with a given n input by console.\n",
    "# Example:\n",
    "# If the following n is given as input to the program:\n",
    "# 7\n",
    "\n",
    "# Then, the output of the program should be:\n",
    "# 0,1,1,2,3,5,8,13\n",
    "\n",
    "# Question 4:\n",
    "# Assuming that we have some email addresses in the &quot;username@companyname.com&quot; format,\n",
    "# please write program to print the user name of a given email address. Both user names and\n",
    "# company names are composed of letters only.\n",
    "# Example:\n",
    "# If the following email address is given as input to the program:\n",
    "# john@google.com\n",
    "# Then, the output of the program should be:\n",
    "# john\n",
    "\n",
    "# Question 5:\n",
    "# Define a class named Shape and its subclass Square. The Square class has an init function\n",
    "# which takes a length as argument. Both classes have a area function which can print the area\n",
    "# of the shape where Shape&#39;s area is 0 by default."
   ]
  },
  {
   "cell_type": "code",
   "execution_count": 1,
   "id": "015f937b",
   "metadata": {},
   "outputs": [
    {
     "name": "stdout",
     "output_type": "stream",
     "text": [
      "Enter a number (n): 500\n",
      "0,35,70,105,140,175,210,245,280,315,350,385,420,455,490\n"
     ]
    }
   ],
   "source": [
    "def divisible_by_5_and_7_generator(n):\n",
    "    for i in range(n + 1):\n",
    "        if i % 5 == 0 and i % 7 == 0:\n",
    "            yield i\n",
    "\n",
    "def main():\n",
    "    n = int(input(\"Enter a number (n): \"))\n",
    "    result = divisible_by_5_and_7_generator(n)\n",
    "    print(\",\".join(map(str, result)))\n",
    "\n",
    "if __name__ == \"__main__\":\n",
    "    main()"
   ]
  },
  {
   "cell_type": "code",
   "execution_count": 2,
   "id": "0fe10ce9",
   "metadata": {},
   "outputs": [
    {
     "name": "stdout",
     "output_type": "stream",
     "text": [
      "Enter a number (n): 20\n",
      "0,2,4,6,8,10,12,14,16,18,20\n"
     ]
    }
   ],
   "source": [
    "def even_numbers_generator(n):\n",
    "    for i in range(n + 1):\n",
    "        if i % 2 == 0:\n",
    "            yield i\n",
    "\n",
    "def main():\n",
    "    n = int(input(\"Enter a number (n): \"))\n",
    "    result = even_numbers_generator(n)\n",
    "    print(\",\".join(map(str, result)))\n",
    "\n",
    "if __name__ == \"__main__\":\n",
    "    main()"
   ]
  },
  {
   "cell_type": "code",
   "execution_count": 3,
   "id": "2c5a7f6e",
   "metadata": {},
   "outputs": [
    {
     "name": "stdout",
     "output_type": "stream",
     "text": [
      "Enter a number (n): 6\n",
      "0,1,1,2,3,5,8\n"
     ]
    }
   ],
   "source": [
    "def fibonacci_sequence(n):\n",
    "    fib = [0, 1]\n",
    "    [fib.append(fib[-1] + fib[-2]) for _ in range(2, n + 1)]\n",
    "    return fib[:n + 1]\n",
    "\n",
    "def main():\n",
    "    n = int(input(\"Enter a number (n): \"))\n",
    "    sequence = fibonacci_sequence(n)\n",
    "    print(\",\".join(map(str, sequence)))\n",
    "\n",
    "if __name__ == \"__main__\":\n",
    "    main()"
   ]
  },
  {
   "cell_type": "code",
   "execution_count": 4,
   "id": "91b96d4d",
   "metadata": {},
   "outputs": [
    {
     "name": "stdout",
     "output_type": "stream",
     "text": [
      "Enter an email address: monika@madeaway.com\n",
      "Username: monika\n"
     ]
    }
   ],
   "source": [
    "def extract_username(email):\n",
    "    # Split the email address by '@' to separate the username and domain\n",
    "    parts = email.split('@')\n",
    "    # The username is the first part before '@'\n",
    "    username = parts[0]\n",
    "    return username\n",
    "\n",
    "def main():\n",
    "    email = input(\"Enter an email address: \")\n",
    "    username = extract_username(email)\n",
    "    print(\"Username:\", username)\n",
    "\n",
    "if __name__ == \"__main__\":\n",
    "    main()"
   ]
  },
  {
   "cell_type": "code",
   "execution_count": 5,
   "id": "6dc0b0ad",
   "metadata": {},
   "outputs": [
    {
     "name": "stdout",
     "output_type": "stream",
     "text": [
      "Area of Shape: 0\n",
      "Area of Square: 25\n"
     ]
    }
   ],
   "source": [
    "class Shape:\n",
    "    def __init__(self):\n",
    "        pass\n",
    "    \n",
    "    def area(self):\n",
    "        return 0\n",
    "\n",
    "class Square(Shape):\n",
    "    def __init__(self, length):\n",
    "        self.length = length\n",
    "    \n",
    "    def area(self):\n",
    "        return self.length ** 2\n",
    "\n",
    "# Example usage:\n",
    "shape = Shape()\n",
    "print(\"Area of Shape:\", shape.area())\n",
    "\n",
    "square = Square(5)\n",
    "print(\"Area of Square:\", square.area())"
   ]
  },
  {
   "cell_type": "code",
   "execution_count": null,
   "id": "a119b72b",
   "metadata": {},
   "outputs": [],
   "source": []
  },
  {
   "cell_type": "code",
   "execution_count": null,
   "id": "67889f65",
   "metadata": {},
   "outputs": [],
   "source": []
  }
 ],
 "metadata": {
  "kernelspec": {
   "display_name": "Python 3 (ipykernel)",
   "language": "python",
   "name": "python3"
  },
  "language_info": {
   "codemirror_mode": {
    "name": "ipython",
    "version": 3
   },
   "file_extension": ".py",
   "mimetype": "text/x-python",
   "name": "python",
   "nbconvert_exporter": "python",
   "pygments_lexer": "ipython3",
   "version": "3.8.10"
  }
 },
 "nbformat": 4,
 "nbformat_minor": 5
}
